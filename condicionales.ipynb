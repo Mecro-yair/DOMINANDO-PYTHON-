{
 "cells": [
  {
   "cell_type": "markdown",
   "id": "61157d2c",
   "metadata": {},
   "source": [
    "#  Condicionales en Python\n",
    "Aprenderás a usar `if`, `elif` y `else` para tomar decisiones en tu código."
   ]
  },
  {
   "cell_type": "markdown",
   "id": "0ba915ed",
   "metadata": {},
   "source": [
    "##  Sintaxis básica"
   ]
  },
  {
   "cell_type": "code",
   "execution_count": null,
   "id": "7c245983",
   "metadata": {},
   "outputs": [],
   "source": [
    "edad = 18\n",
    "if edad >= 18:\n",
    "    print(\"Eres mayor de edad\")\n",
    "else:\n",
    "    print(\"Eres menor de edad\")"
   ]
  },
  {
   "cell_type": "markdown",
   "id": "bfb07881",
   "metadata": {},
   "source": [
    "##  `if`, `elif`, `else`"
   ]
  },
  {
   "cell_type": "code",
   "execution_count": null,
   "id": "b94b39be",
   "metadata": {},
   "outputs": [],
   "source": [
    "nota = 85\n",
    "if nota >= 90:\n",
    "    print(\"Excelente\")\n",
    "elif nota >= 70:\n",
    "    print(\"Aprobado\")\n",
    "else:\n",
    "    print(\"Reprobado\")"
   ]
  },
  {
   "cell_type": "markdown",
   "id": "9545bf3b",
   "metadata": {},
   "source": [
    "##  `if ... in ...`"
   ]
  },
  {
   "cell_type": "code",
   "execution_count": 1,
   "id": "832cf1a6",
   "metadata": {},
   "outputs": [
    {
     "name": "stdout",
     "output_type": "stream",
     "text": [
      "La letra está\n"
     ]
    }
   ],
   "source": [
    "# if elemento in colección:\n",
    "# \"Si el elemento se encuentra dentro de la colección, entonces haz algo.\"\n",
    "if \"a\" in \"palabra\":\n",
    "    print(\"La letra está\")\n",
    "else:\n",
    "    print(\"La letra no está\")"
   ]
  },
  {
   "cell_type": "markdown",
   "id": "8963c14d",
   "metadata": {},
   "source": [
    "## ⚠️ Comparadores útiles\n",
    "- `==` igual a\n",
    "- `!=` diferente de\n",
    "- `>` mayor que\n",
    "- `<` menor que\n",
    "- `>=` mayor o igual\n",
    "- `<=` menor o igual"
   ]
  },
  {
   "cell_type": "markdown",
   "id": "d729f398",
   "metadata": {},
   "source": [
    "## Ejercicio 1\n",
    "Pide al usuario una contraseña y verifica si es correcta."
   ]
  },
  {
   "cell_type": "code",
   "execution_count": null,
   "id": "6d5d0824",
   "metadata": {},
   "outputs": [],
   "source": [
    "# Simulando ingreso\n",
    "clave = \"admin123\"\n",
    "ingreso = \"admin123\"\n",
    "\n",
    "if ingreso == clave:\n",
    "    print(\"Acceso concedido\")\n",
    "else:\n",
    "    print(\"Acceso denegado\")"
   ]
  },
  {
   "cell_type": "markdown",
   "id": "07f838ae",
   "metadata": {},
   "source": [
    "## Ejercicio 2\n",
    "Determinar si un número es positivo, negativo o cero."
   ]
  },
  {
   "cell_type": "code",
   "execution_count": null,
   "id": "3292e83f",
   "metadata": {},
   "outputs": [],
   "source": [
    "numero = -5\n",
    "if numero > 0:\n",
    "    print(\"Positivo\")\n",
    "elif numero < 0:\n",
    "    print(\"Negativo\")\n",
    "else:\n",
    "    print(\"Es cero\")"
   ]
  },
  {
   "cell_type": "markdown",
   "id": "4bf8cd3b",
   "metadata": {},
   "source": [
    "##  Buenas prácticas\n",
    "- Usar sangría (4 espacios)\n",
    "- Evitar condiciones confusas\n",
    "- Usar variables claras como `usuario_valido`, `es_mayor`, etc."
   ]
  }
 ],
 "metadata": {
  "kernelspec": {
   "display_name": "Python 3",
   "language": "python",
   "name": "python3"
  },
  "language": "python",
  "language_info": {
   "codemirror_mode": {
    "name": "ipython",
    "version": 3
   },
   "file_extension": ".py",
   "mimetype": "text/x-python",
   "name": "python",
   "nbconvert_exporter": "python",
   "pygments_lexer": "ipython3",
   "version": "3.13.0"
  }
 },
 "nbformat": 4,
 "nbformat_minor": 5
}
