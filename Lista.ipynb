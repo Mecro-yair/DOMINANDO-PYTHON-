{
 "cells": [
  {
   "cell_type": "markdown",
   "metadata": {},
   "source": [
    "# Listas en Python\n",
    "\n",
    "Las listas son colecciones ordenadas y mutables que permiten elementos duplicados."
   ]
  },
  {
   "cell_type": "markdown",
   "metadata": {},
   "source": [
    "## 1. Creación y características básicas"
   ]
  },
  {
   "cell_type": "code",
   "execution_count": null,
   "metadata": {},
   "outputs": [],
   "source": [
    "# Creación de listas\n",
    "frutas = [\"manzana\", \"banana\", \"cereza\"]\n",
    "numeros = [1, 5, 7, 9, 3]\n",
    "mezclada = [True, \"texto\", 42, 3.14]\n",
    "\n",
    "print(\"Lista de frutas:\", frutas)\n",
    "print(\"Longitud de la lista:\", len(frutas))\n",
    "print(\"Tipo de dato:\", type(frutas))"
   ]
  },
  {
   "cell_type": "markdown",
   "metadata": {},
   "source": [
    "## 2. Acceso y modificación de elementos"
   ]
  },
  {
   "cell_type": "code",
   "execution_count": null,
   "metadata": {},
   "outputs": [],
   "source": [
    "frutas = [\"manzana\", \"banana\", \"cereza\",\"pera\"]\n",
    "numeros = [1, 5, 7, 9, 3]\n",
    "\n",
    "# Acceso por índice\n",
    "print(\"Primer elemento:\", frutas[0])\n",
    "print(\"Último elemento:\", frutas[-1])\n",
    "\n",
    "# Slicing\n",
    "print(\"Subconjunto:\", frutas[1:3])\n",
    "print(\"Cada segundo elemento:\", numeros[::2])\n",
    "\n",
    "# Modificación\n",
    "frutas[1] = \"mango\"\n",
    "print(\"Lista modificada:\", frutas)\n",
    "\n",
    "# Verificar existencia\n",
    "print(\"¿'manzana' está en la lista?\", \"manzana\" in frutas)"
   ]
  },
  {
   "cell_type": "markdown",
   "metadata": {},
   "source": [
    "## 3. Métodos principales"
   ]
  },
  {
   "cell_type": "code",
   "execution_count": null,
   "metadata": {},
   "outputs": [],
   "source": [
    "frutas = [\"manzana\", \"banana\", \"cereza\"]\n",
    "numeros = [1, 5, 7, 9, 3]\n",
    "# Añadir elementos\n",
    "frutas.append(\"naranja\")\n",
    "frutas.insert(1, \"kiwi\")\n",
    "print(\"Después de añadir:\", frutas)\n",
    "\n",
    "# Eliminar elementos\n",
    "frutas.remove(\"kiwi\")\n",
    "eliminado = frutas.pop(2)\n",
    "print(f\"Eliminado: {eliminado}, Lista actual: {frutas}\")\n",
    "\n",
    "# Ordenamiento\n",
    "numeros.sort()\n",
    "print(\"Números ordenados:\", numeros)\n",
    "frutas.sort(reverse=True)\n",
    "print(\"Frutas ordenadas descendente:\", frutas)\n",
    "\n",
    "# Copia de listas\n",
    "copia_frutas = frutas.copy()\n",
    "print(\"Copia:\", copia_frutas)"
   ]
  },
  {
   "cell_type": "markdown",
   "metadata": {},
   "source": [
    "## 4. Operaciones avanzadas"
   ]
  },
  {
   "cell_type": "code",
   "execution_count": null,
   "metadata": {},
   "outputs": [],
   "source": [
    "frutas = [\"manzana\", \"banana\", \"cereza\"]\n",
    "numeros = [1, 5, 7, 9, 3]\n",
    "\n",
    "# List comprehension\n",
    "cuadrados = [x**2 for x in range(10)]\n",
    "print(\"Cuadrados:\", cuadrados)\n",
    "\n",
    "# Unión de listas\n",
    "combinada = frutas + numeros\n",
    "print(\"Listas combinadas:\", combinada)\n",
    "\n",
    "# Anidamiento\n",
    "matriz = [[1, 2, 3], [4, 5, 6], [7, 8, 9]]\n",
    "print(\"Elemento matriz[1][2]:\", matriz[1][2])"
   ]
  },
  {
   "cell_type": "markdown",
   "metadata": {},
   "source": [
    "## 5. Conversión y métodos útiles"
   ]
  },
  {
   "cell_type": "code",
   "execution_count": null,
   "metadata": {},
   "outputs": [],
   "source": [
    "frutas = [\"manzana\", \"banana\", \"cereza\",\"mango\"]\n",
    "numeros = [1, 5, 7, 9, 3]\n",
    "\n",
    "# De string a lista\n",
    "palabra = \"Python\"\n",
    "letras = list(palabra)\n",
    "print(\"Letras:\", letras)\n",
    "\n",
    "# Contar ocurrencias\n",
    "print(\"Número de 'manzana':\", frutas.count(\"manzana\"))\n",
    "\n",
    "# Índice de elemento\n",
    "print(\"Índice de 'mango':\", frutas.index(\"mango\"))\n",
    "\n",
    "# Inversión\n",
    "frutas.reverse()\n",
    "print(\"Lista invertida:\", frutas)"
   ]
  },
  {
   "cell_type": "code",
   "execution_count": null,
   "id": "6a1631ae",
   "metadata": {},
   "outputs": [],
   "source": [
    "numero = str(input(\"Ingresa un numero]: \"))\n",
    "digitos = list(numero)\n",
    "digitos.reverse()\n",
    "print(\"\".join(digitos))"
   ]
  },
  {
   "cell_type": "code",
   "execution_count": null,
   "id": "af3b613c",
   "metadata": {},
   "outputs": [],
   "source": [
    "numero = (input(\"Ingresa un numero]: \"))\n",
    "print(numero[::-1])"
   ]
  }
 ],
 "metadata": {
  "kernelspec": {
   "display_name": "Python 3",
   "language": "python",
   "name": "python3"
  },
  "language_info": {
   "codemirror_mode": {
    "name": "ipython",
    "version": 3
   },
   "file_extension": ".py",
   "mimetype": "text/x-python",
   "name": "python",
   "nbconvert_exporter": "python",
   "pygments_lexer": "ipython3",
   "version": "3.13.0"
  }
 },
 "nbformat": 4,
 "nbformat_minor": 5
}
