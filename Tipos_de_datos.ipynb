{
 "cells": [
  {
   "cell_type": "markdown",
   "id": "574cda2e",
   "metadata": {},
   "source": [
    "\n",
    "# Tipos de Datos en Python\n",
    "\n",
    "Python es un lenguaje de tipado dinámico, lo que significa que no necesitas declarar el tipo de una variable al definirla. El intérprete lo determina automáticamente en tiempo de ejecución.\n",
    "\n",
    "Los **tipos de datos** definen qué tipo de valor puede almacenar una variable, y son fundamentales para el manejo correcto de datos.\n",
    "\n",
    "Existen dos formas principales de definir tipos de datos:\n",
    "\n",
    "1. **Asignación automática** – El tipo se asigna según el valor.\n",
    "2. **Asignación explícita** – Usamos funciones constructoras como `int()`, `str()`, `list()`, etc.\n",
    "\n",
    "---\n"
   ]
  },
  {
   "cell_type": "markdown",
   "id": "306a05f6",
   "metadata": {},
   "source": [
    "\n",
    "## Asignación Automática del Tipo de Dato\n",
    "\n",
    "Al asignar un valor, Python detecta el tipo automáticamente.\n"
   ]
  },
  {
   "cell_type": "code",
   "execution_count": null,
   "id": "4c981eaa",
   "metadata": {},
   "outputs": [],
   "source": [
    "x = \"Hello World\"              # str\n",
    "y = 20                         # int\n",
    "z = 20.5                       # float\n",
    "a = 1j                         # complex\n",
    "b = [\"apple\", \"banana\", \"cherry\"]  # list\n",
    "c = (\"apple\", \"banana\", \"cherry\")  # tuple\n",
    "d = range(6)                   # range\n",
    "e = {\"name\" : \"John\", \"age\" : 36}  # dict\n",
    "f = {\"apple\", \"banana\", \"cherry\"} # set\n",
    "g = frozenset({\"apple\", \"banana\", \"cherry\"})  # frozenset\n",
    "h = True                       # bool\n",
    "i = b\"Hello\"                   # bytes\n",
    "j = bytearray(5)               # bytearray\n",
    "k = memoryview(bytes(5))       # memoryview\n",
    "l = None                       # NoneType\n",
    "\n",
    "# Mostrar tipos\n",
    "variables = [x, y, z, a, b, c, d, e, f, g, h, i, j, k, l]\n",
    "for var in variables:\n",
    "    print(f\"{repr(var):<40} --> {type(var)}\")\n"
   ]
  },
  {
   "cell_type": "markdown",
   "id": "660789df",
   "metadata": {},
   "source": [
    "\n",
    "## Asignación Explícita del Tipo de Dato\n",
    "\n",
    "Usamos funciones constructoras para definir el tipo manualmente.\n"
   ]
  },
  {
   "cell_type": "code",
   "execution_count": null,
   "id": "13ee69c7",
   "metadata": {},
   "outputs": [],
   "source": [
    "x = str(\"Hello World\")\n",
    "y = int(20)\n",
    "z = float(20.5)\n",
    "a = complex(1j)\n",
    "b = list((\"apple\", \"banana\", \"cherry\"))\n",
    "c = tuple((\"apple\", \"banana\", \"cherry\"))\n",
    "d = range(6)\n",
    "e = dict(name=\"John\", age=36)\n",
    "f = set((\"apple\", \"banana\", \"cherry\"))\n",
    "g = frozenset((\"apple\", \"banana\", \"cherry\"))\n",
    "h = bool(5)\n",
    "i = bytes(5)\n",
    "j = bytearray(5)\n",
    "k = memoryview(bytes(5))\n",
    "\n",
    "# Mostrar tipos\n",
    "variables = [x, y, z, a, b, c, d, e, f, g, h, i, j, k]\n",
    "for var in variables:\n",
    "    print(f\"{repr(var):<40} --> {type(var)}\")\n"
   ]
  },
  {
   "cell_type": "markdown",
   "id": "1058a54f",
   "metadata": {},
   "source": [
    "\n",
    "## ¿Cuándo usar cada tipo de dato?\n",
    "\n",
    "- `str`: Para texto, como nombres, descripciones, mensajes.\n",
    "- `int`: Para números enteros sin decimales. Ej: edad, conteos.\n",
    "- `float`: Para números con decimales. Ej: precios, porcentajes.\n",
    "- `complex`: Para matemáticas complejas (uso avanzado).\n",
    "- `list`: Colección ordenada y modificable. Ideal para listas de elementos.\n",
    "- `tuple`: Colección ordenada e **inmutable**. Ideal para datos fijos.\n",
    "- `range`: Para generar secuencias numéricas en bucles.\n",
    "- `dict`: Pares clave-valor. Muy útil para representar objetos o registros.\n",
    "- `set`: Colección desordenada sin elementos repetidos.\n",
    "- `frozenset`: Como `set`, pero **inmutable**.\n",
    "- `bool`: Valores lógicos `True` o `False`.\n",
    "- `bytes`, `bytearray`, `memoryview`: Manipulación de datos binarios (uso avanzado).\n",
    "- `None`: Representa la ausencia de valor.\n",
    "\n",
    "---\n"
   ]
  },
  {
   "cell_type": "markdown",
   "id": "39b23afa",
   "metadata": {},
   "source": [
    "\n",
    "# Ejercicios por Tipo de Dato\n",
    "\n",
    "Practica cómo se usan los tipos de datos más comunes en la vida real.\n"
   ]
  },
  {
   "cell_type": "markdown",
   "id": "982cae3f",
   "metadata": {},
   "source": [
    "## Ejercicio 1: `str`\n",
    "Pide al usuario su nombre y muestra un saludo personalizado."
   ]
  },
  {
   "cell_type": "code",
   "execution_count": null,
   "id": "fddac692",
   "metadata": {},
   "outputs": [],
   "source": [
    "nombre = input(\"¿Cuál es tu nombre? \")\n",
    "print(\"Hola \" + nombre + \", ¡bienvenido a Python!\")"
   ]
  },
  {
   "cell_type": "markdown",
   "id": "2e1c16c6",
   "metadata": {},
   "source": [
    "## Ejercicio 2: `int`\n",
    "Pide al usuario dos números enteros y muestra la suma."
   ]
  },
  {
   "cell_type": "code",
   "execution_count": null,
   "id": "47b7dff7",
   "metadata": {},
   "outputs": [],
   "source": [
    "a = int(input(\"Ingresa un número: \"))\n",
    "b = int(input(\"Ingresa otro número: \"))\n",
    "print(\"La suma es:\", a + b)"
   ]
  },
  {
   "cell_type": "markdown",
   "id": "081d6866",
   "metadata": {},
   "source": [
    "## Ejercicio 3: `float`\n",
    "Calcula el área de un círculo con radio dado por el usuario."
   ]
  },
  {
   "cell_type": "code",
   "execution_count": null,
   "id": "9024b1b5",
   "metadata": {},
   "outputs": [],
   "source": [
    "import math\n",
    "radio = float(input(\"Ingresa el radio del círculo: \"))\n",
    "area = math.pi * radio**2\n",
    "print(\"Área del círculo:\", area)"
   ]
  },
  {
   "cell_type": "markdown",
   "id": "21f3e2ac",
   "metadata": {},
   "source": [
    "## Ejercicio 4: `list`\n",
    "Crea una lista de 3 frutas y muestra la segunda."
   ]
  },
  {
   "cell_type": "code",
   "execution_count": null,
   "id": "def92b37",
   "metadata": {},
   "outputs": [],
   "source": [
    "frutas = [\"manzana\", \"banana\", \"naranja\"]\n",
    "print(\"La segunda fruta es:\", frutas[1])"
   ]
  },
  {
   "cell_type": "markdown",
   "id": "5aa2b34e",
   "metadata": {},
   "source": [
    "## Ejercicio 5: `dict`\n",
    "Crea un diccionario con datos de una persona y muéstralos."
   ]
  },
  {
   "cell_type": "code",
   "execution_count": null,
   "id": "4ca76e75",
   "metadata": {},
   "outputs": [],
   "source": [
    "persona = {\"nombre\": \"Ana\", \"edad\": 30, \"ciudad\": \"Lima\"}\n",
    "print(\"Nombre:\", persona[\"nombre\"])\n",
    "print(\"Edad:\", persona[\"edad\"])\n",
    "print(\"Ciudad:\", persona[\"ciudad\"])"
   ]
  },
  {
   "cell_type": "markdown",
   "id": "d468f05d",
   "metadata": {},
   "source": [
    "## Ejercicio 6: `bool`\n",
    "Evalúa si una edad ingresada es mayor de edad."
   ]
  },
  {
   "cell_type": "code",
   "execution_count": null,
   "id": "6d88aa04",
   "metadata": {},
   "outputs": [],
   "source": [
    "edad = int(input(\"Ingresa tu edad: \"))\n",
    "es_mayor = edad >= 18\n",
    "print(\"¿Eres mayor de edad?\", es_mayor)"
   ]
  },
  {
   "cell_type": "markdown",
   "id": "57789989",
   "metadata": {},
   "source": [
    "## Ejercicio 7: `set`\n",
    "Agrega varias palabras a un set y elimina duplicados automáticamente."
   ]
  },
  {
   "cell_type": "code",
   "execution_count": 4,
   "id": "0bc89577",
   "metadata": {},
   "outputs": [
    {
     "name": "stdout",
     "output_type": "stream",
     "text": [
      "{'java', 'python', 'c++'}\n"
     ]
    }
   ],
   "source": [
    "palabras = [\"python\", \"python\", \"java\", \"c++\", \"python\", \"java\"]\n",
    "sin_repetidos = set(palabras)\n",
    "print(sin_repetidos)"
   ]
  },
  {
   "cell_type": "markdown",
   "id": "6877638c",
   "metadata": {},
   "source": [
    "## Ejercicio 8: `tuple`\n",
    "Crea una tupla con tres colores y accede al último elemento."
   ]
  },
  {
   "cell_type": "code",
   "execution_count": null,
   "id": "f2d10ddf",
   "metadata": {},
   "outputs": [],
   "source": [
    "colores = (\"rojo\", \"verde\", \"azul\",\"papita\")\n",
    "print(\"Último color:\", colores[-1])\n"
   ]
  },
  {
   "cell_type": "markdown",
   "id": "599939d8",
   "metadata": {},
   "source": [
    "## Ejercicio 9: `range`\n",
    "Usa `range` para imprimir los números del 1 al 5.\n"
   ]
  },
  {
   "cell_type": "code",
   "execution_count": null,
   "id": "85025646",
   "metadata": {},
   "outputs": [],
   "source": [
    "for i in range(1, 6):\n",
    "    print(i)\n"
   ]
  },
  {
   "cell_type": "markdown",
   "id": "8e1c2870",
   "metadata": {},
   "source": [
    "## Ejercicio 10: `frozenset`\n",
    "Crea un `frozenset` de vocales y muestra si contiene una letra específica.\n"
   ]
  },
  {
   "cell_type": "code",
   "execution_count": null,
   "id": "c5fe233c",
   "metadata": {},
   "outputs": [],
   "source": [
    "letras = frozenset([\"a\", \"e\", \"i\", \"o\", \"u\"])\n",
    "print(\"¿Contiene 'e'?\", 'e' in letras)\n"
   ]
  },
  {
   "cell_type": "markdown",
   "id": "43dac75b",
   "metadata": {},
   "source": [
    "## Ejercicio 11: `complex`\n",
    "Crea un número complejo y muestra su parte real e imaginaria.\n"
   ]
  },
  {
   "cell_type": "code",
   "execution_count": 14,
   "id": "494339c4",
   "metadata": {},
   "outputs": [
    {
     "name": "stdout",
     "output_type": "stream",
     "text": [
      "Parte real: 3.0\n",
      "Parte imaginaria: 4.0\n"
     ]
    }
   ],
   "source": [
    "num = complex(3, 4)\n",
    "print(\"Parte real:\", num.real)\n",
    "print(\"Parte imaginaria:\", num.imag)\n"
   ]
  },
  {
   "cell_type": "markdown",
   "id": "d4996199",
   "metadata": {},
   "source": [
    "## Ejercicio 12: `bytes`\n",
    "Crea un objeto `bytes` y muestra cada byte por separado.\n"
   ]
  },
  {
   "cell_type": "code",
   "execution_count": null,
   "id": "f7b40b1b",
   "metadata": {},
   "outputs": [],
   "source": [
    "datos = bytes(\"Hola\", \"utf-8\")\n",
    "for byte in datos:\n",
    "    print(byte)\n"
   ]
  },
  {
   "cell_type": "markdown",
   "id": "29a3b616",
   "metadata": {},
   "source": [
    "## Ejercicio 13: `bytearray`\n",
    "Crea un `bytearray`, modifica un valor y muéstralo.\n"
   ]
  },
  {
   "cell_type": "code",
   "execution_count": null,
   "id": "0d627148",
   "metadata": {},
   "outputs": [],
   "source": [
    "ba = bytearray(5)\n",
    "ba[0] = 65  # Corresponde a la letra 'A'\n",
    "print(ba)\n"
   ]
  },
  {
   "cell_type": "markdown",
   "id": "d3c5576d",
   "metadata": {},
   "source": [
    "## Ejercicio 14: `memoryview`\n",
    "Crea un `memoryview` de un objeto `bytes` y accede al primer valor.\n"
   ]
  },
  {
   "cell_type": "code",
   "execution_count": 17,
   "id": "21c7b25a",
   "metadata": {},
   "outputs": [
    {
     "name": "stdout",
     "output_type": "stream",
     "text": [
      "Primer valor: 10\n"
     ]
    }
   ],
   "source": [
    "mv = memoryview(bytes([10, 20, 30, 40]))\n",
    "print(\"Primer valor:\", mv[0])\n"
   ]
  },
  {
   "cell_type": "markdown",
   "id": "0d5042cd",
   "metadata": {},
   "source": [
    "## Ejercicio 15: `NoneType`\n",
    "Declara una variable con valor `None` y verifica si está vacía.\n"
   ]
  },
  {
   "cell_type": "code",
   "execution_count": 18,
   "id": "0fcb9937",
   "metadata": {},
   "outputs": [
    {
     "name": "stdout",
     "output_type": "stream",
     "text": [
      "La variable no tiene valor asignado\n"
     ]
    }
   ],
   "source": [
    "x = None\n",
    "if x is None:\n",
    "    print(\"La variable no tiene valor asignado\")\n"
   ]
  }
 ],
 "metadata": {
  "kernelspec": {
   "display_name": "Python 3",
   "language": "python",
   "name": "python3"
  },
  "language_info": {
   "codemirror_mode": {
    "name": "ipython",
    "version": 3
   },
   "file_extension": ".py",
   "mimetype": "text/x-python",
   "name": "python",
   "nbconvert_exporter": "python",
   "pygments_lexer": "ipython3",
   "version": "3.13.0"
  }
 },
 "nbformat": 4,
 "nbformat_minor": 5
}
