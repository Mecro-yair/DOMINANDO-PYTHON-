{
 "cells": [
  {
   "cell_type": "markdown",
   "id": "03dd132d",
   "metadata": {},
   "source": [
    "# Bucles en Python\n",
    "Una guía completa sobre cómo utilizar bucles (`while`, `for`) en Python."
   ]
  },
  {
   "cell_type": "markdown",
   "id": "fbd90ff8",
   "metadata": {},
   "source": [
    "\n",
    "Los **bucles** permiten ejecutar un bloque de código varias veces. Son fundamentales para repetir tareas, recorrer colecciones, automatizar procesos, etc.  \n",
    "Python tiene principalmente dos tipos de bucles:\n",
    "\n",
    "- `while`: Repite mientras se cumpla una condición.\n",
    "- `for`: Recorre elementos de una secuencia o colección.\n"
   ]
  },
  {
   "cell_type": "markdown",
   "id": "80c316e0",
   "metadata": {},
   "source": [
    "## Bucle `while`"
   ]
  },
  {
   "cell_type": "code",
   "execution_count": null,
   "id": "7a27d9c2",
   "metadata": {},
   "outputs": [],
   "source": [
    "\n",
    "contador = 0\n",
    "while contador < 5:\n",
    "    print(\"Contador:\", contador)\n",
    "    contador += 1\n"
   ]
  },
  {
   "cell_type": "markdown",
   "id": "a64dc6ee",
   "metadata": {},
   "source": [
    "\n",
    "- El bucle se ejecuta mientras `contador < 5` sea verdadero.\n",
    "- Es importante **modificar la condición dentro del bucle** para evitar bucles infinitos.\n"
   ]
  },
  {
   "cell_type": "markdown",
   "id": "8c545350",
   "metadata": {},
   "source": [
    "## Bucle `for`"
   ]
  },
  {
   "cell_type": "code",
   "execution_count": null,
   "id": "d93102da",
   "metadata": {},
   "outputs": [],
   "source": [
    "\n",
    "colores = ['rojo', 'verde', 'azul']\n",
    "for color in colores:\n",
    "    print(\"Color:\", color)\n"
   ]
  },
  {
   "cell_type": "markdown",
   "id": "9877e4c0",
   "metadata": {},
   "source": [
    "\n",
    "- `for` recorre cada elemento de la lista `colores`.\n",
    "- No necesita un contador explícito.\n"
   ]
  },
  {
   "cell_type": "markdown",
   "id": "60e7d4dd",
   "metadata": {},
   "source": [
    "## La función `range()`"
   ]
  },
  {
   "cell_type": "code",
   "execution_count": null,
   "id": "0863b4f3",
   "metadata": {},
   "outputs": [],
   "source": [
    "\n",
    "# range(inicio, fin, paso)\n",
    "for i in range(1, 10, 2):\n",
    "    print(i)\n"
   ]
  },
  {
   "cell_type": "markdown",
   "id": "e14528b9",
   "metadata": {},
   "source": [
    "\n",
    "- `range(1, 10, 2)` genera los números 1, 3, 5, 7, 9.\n",
    "- Si se omite el paso, se asume 1.\n"
   ]
  },
  {
   "cell_type": "markdown",
   "id": "02dc0b9e",
   "metadata": {},
   "source": [
    "## Palabras clave `break` y `continue`"
   ]
  },
  {
   "cell_type": "code",
   "execution_count": null,
   "id": "2f61c47c",
   "metadata": {},
   "outputs": [],
   "source": [
    "\n",
    "# break: termina el bucle\n",
    "for i in range(10):\n",
    "    if i == 5:\n",
    "        break\n",
    "    print(i)\n"
   ]
  },
  {
   "cell_type": "code",
   "execution_count": null,
   "id": "5d112d91",
   "metadata": {},
   "outputs": [],
   "source": [
    "\n",
    "# continue: salta a la siguiente iteración\n",
    "for i in range(10):\n",
    "    if i % 2 == 0:\n",
    "        continue\n",
    "    print(i)\n"
   ]
  },
  {
   "cell_type": "markdown",
   "id": "3922883b",
   "metadata": {},
   "source": [
    "## Uso de `else` con bucles"
   ]
  },
  {
   "cell_type": "code",
   "execution_count": null,
   "id": "502ca960",
   "metadata": {},
   "outputs": [],
   "source": [
    "\n",
    "for i in range(3):\n",
    "    print(\"Iteración\", i)\n",
    "else:\n",
    "    print(\"El bucle terminó normalmente\")\n"
   ]
  },
  {
   "cell_type": "markdown",
   "id": "075c9232",
   "metadata": {},
   "source": [
    "\n",
    "El bloque `else` se ejecuta **solo si el bucle no fue interrumpido con `break`**.\n"
   ]
  },
  {
   "cell_type": "markdown",
   "id": "6cf452f1",
   "metadata": {},
   "source": [
    "## Bucles anidados"
   ]
  },
  {
   "cell_type": "code",
   "execution_count": null,
   "id": "9e3c6801",
   "metadata": {},
   "outputs": [],
   "source": [
    "\n",
    "for i in range(3):\n",
    "    for j in range(2):\n",
    "        print(f\"i={i}, j={j}\")\n"
   ]
  },
  {
   "cell_type": "markdown",
   "id": "f568fb5d",
   "metadata": {},
   "source": [
    "## Buenas prácticas"
   ]
  },
  {
   "cell_type": "markdown",
   "id": "4492054f",
   "metadata": {},
   "source": [
    "\n",
    "- Evita bucles infinitos (`while True`) sin condiciones de salida.\n",
    "- Usa nombres de variables significativos.\n",
    "- Para listas y diccionarios, prefiere `for` en lugar de `while`.\n",
    "- Usa `enumerate()` cuando necesites índice y valor.\n"
   ]
  },
  {
   "cell_type": "markdown",
   "id": "6139f011",
   "metadata": {},
   "source": [
    "## Ejercicios propuestos"
   ]
  },
  {
   "cell_type": "markdown",
   "id": "5d987bc1",
   "metadata": {},
   "source": [
    "\n",
    "1. Imprime los números del 1 al 100 usando `while`.\n",
    "\n",
    "2. Crea una lista de 10 nombres y muestra cada uno con `for`.\n",
    "\n",
    "3. Usa un bucle `for` para imprimir los múltiplos de 3 entre 1 y 50.\n",
    "\n",
    "4. Dado un número ingresado por el usuario, cuenta cuántos dígitos tiene usando `while`.\n"
   ]
  },
  {
   "cell_type": "markdown",
   "id": "34d713ed",
   "metadata": {},
   "source": [
    "## Más ejercicios propuestos (continuación)"
   ]
  },
  {
   "cell_type": "markdown",
   "id": "9daee0ef",
   "metadata": {},
   "source": [
    "\n",
    "5. Suma todos los números pares entre 1 y 100 usando un bucle `for`.\n",
    "\n",
    "6. Solicita al usuario 5 números y muestra la suma total.\n",
    "\n",
    "7. Imprime la tabla de multiplicar del 7 (del 1 al 12).\n",
    "\n",
    "8. Repite la impresión de \"Hola Mundo\" 10 veces usando `while`.\n",
    "\n",
    "9. Recorre una cadena de texto y cuenta cuántas vocales tiene.\n",
    "\n",
    "10. Pide al usuario una contraseña y no permitas salir del bucle hasta que escriba “python123”.\n",
    "\n",
    "11. Usa `break` para salir de un bucle cuando se ingrese un número negativo.\n",
    "\n",
    "12. Usa `continue` para omitir los múltiplos de 5 entre 1 y 30.\n",
    "\n",
    "13. Imprime los números del 1 al 20, pero usando un bucle `for` con `range` descendente.\n",
    "\n",
    "14. Dibuja un triángulo de asteriscos como este usando bucles anidados:\n",
    "    ```\n",
    "    *\n",
    "    **\n",
    "    ***\n",
    "    ****\n",
    "    *****\n",
    "    ```\n",
    "\n",
    "15. Imprime todos los números primos entre 1 y 50.\n",
    "\n",
    "16. Cuenta cuántas veces aparece un carácter específico en una cadena ingresada por el usuario.\n",
    "\n",
    "17. Simula un cajero automático que permite 3 intentos para ingresar el PIN correcto.\n",
    "\n",
    "18. Genera la serie de Fibonacci hasta el término número 10.\n",
    "\n",
    "19. Pide al usuario 5 palabras y crea una lista con las palabras en mayúscula.\n",
    "\n",
    "20. Dado un número entero, invierte sus dígitos usando `while`.\n"
   ]
  },
  {
   "cell_type": "code",
   "execution_count": null,
   "id": "53c326f9",
   "metadata": {},
   "outputs": [],
   "source": [
    "# EJERCICIO 1\n",
    "\n",
    "i = 0\n",
    "while (i<=100):\n",
    "    print(i)\n",
    "    i+=1"
   ]
  },
  {
   "cell_type": "code",
   "execution_count": null,
   "id": "c5b9e0e7",
   "metadata": {},
   "outputs": [],
   "source": [
    "# EJERCICIO 2\n",
    "lista = [\"Erwin\", \"Danny\",\"Jorge\", \"Diana\", \"Joel\", \"Jhonel\", \"Jorel\", \"Moises\", \"Wesley\", \"Oscar\"]\n",
    "for nombres in lista:\n",
    "    print(nombres)"
   ]
  },
  {
   "cell_type": "code",
   "execution_count": null,
   "id": "f3e58db0",
   "metadata": {},
   "outputs": [],
   "source": [
    "# EJERCICIO 3\n",
    "\n",
    "for i in range(1,50,1):\n",
    "    if i%3==0:\n",
    "        print(i)"
   ]
  },
  {
   "cell_type": "code",
   "execution_count": null,
   "id": "a499d185",
   "metadata": {},
   "outputs": [],
   "source": [
    "# EJERCICIO 4\n",
    "\n",
    "numero = int(input(\"Ingrese un numero: \"))\n",
    "cont = 0\n",
    "if(numero==0):\n",
    "    cont=1\n",
    "while(numero!=0):\n",
    "    cont+=1\n",
    "    numero=int(numero/10)\n",
    "print(\"El numero tiene\",cont,\"Digitos\")"
   ]
  },
  {
   "cell_type": "code",
   "execution_count": null,
   "id": "3a2d87f7",
   "metadata": {},
   "outputs": [],
   "source": [
    "# EJERCICIO 5\n",
    "\n",
    "for i in range(1,100,1):\n",
    "    if i%2==0:\n",
    "        print(i)\n"
   ]
  },
  {
   "cell_type": "code",
   "execution_count": null,
   "id": "d24c0fed",
   "metadata": {},
   "outputs": [],
   "source": [
    "# EJERCICIO 6\n",
    "\n",
    "numeros = []\n",
    "suma = 0\n",
    "for i in range(5):\n",
    "    numero = int(input(\"Ingrese un numero: \"))\n",
    "    suma+=numero\n",
    "print(suma)"
   ]
  },
  {
   "cell_type": "code",
   "execution_count": null,
   "id": "6d481407",
   "metadata": {},
   "outputs": [],
   "source": [
    "# EJERCICIO 7\n",
    "\n",
    "for i in range(1,13,1):\n",
    "    print(f\"{i} x 7 = {i*7}\")"
   ]
  },
  {
   "cell_type": "code",
   "execution_count": null,
   "id": "afcdf5ac",
   "metadata": {},
   "outputs": [],
   "source": [
    "# EJERCICIO 8\n",
    "\n",
    "i = 1\n",
    "while(i<=10):\n",
    "    print(\"Hola Mundo\")\n",
    "    i+=1"
   ]
  },
  {
   "cell_type": "code",
   "execution_count": null,
   "id": "a53586b3",
   "metadata": {},
   "outputs": [],
   "source": [
    "# EJERCICIO 9\n",
    "cont = 0\n",
    "texto = input(\"Digite una cadena de texto: \")\n",
    "\n",
    "for letra in texto:\n",
    "    if letra.lower() in \"aeiou\":\n",
    "        cont += 1\n",
    "print(\"La cantidad de vocales es: \", cont)"
   ]
  },
  {
   "cell_type": "code",
   "execution_count": null,
   "id": "3cba2998",
   "metadata": {},
   "outputs": [],
   "source": [
    "# EJERCICIO 10\n",
    "\n",
    "contrasena = \"\"\n",
    "while contrasena != \"python123\":\n",
    "    contrasena = input(\"Digite una contraseña: \")\n",
    "    print(\"La contraseña es incorrecta, intentelo de nuevo.\")\n",
    "print(\"En hora buena, la contraseña es correcta.\")"
   ]
  },
  {
   "cell_type": "code",
   "execution_count": null,
   "id": "b0d37d58",
   "metadata": {},
   "outputs": [],
   "source": [
    "# EJERCICIO 11\n",
    "\n",
    "while(True):\n",
    "    numero = int(input(\"Digite un numero positivo: \"))\n",
    "    if numero<0:\n",
    "        break\n",
    "print(\"UPS, Digitaste un numero negativo, el programa ha terminado.\")"
   ]
  },
  {
   "cell_type": "code",
   "execution_count": null,
   "id": "61d42ec2",
   "metadata": {},
   "outputs": [],
   "source": [
    "# EJERCICIO 12\n",
    "\n",
    "for i in range(1,31,1):\n",
    "    if i%5==0:\n",
    "        continue\n",
    "    print(i)"
   ]
  },
  {
   "cell_type": "code",
   "execution_count": null,
   "id": "879efcae",
   "metadata": {},
   "outputs": [],
   "source": [
    "# EJERCICIO 13\n",
    "\n",
    "for i in range(21,1,-1):\n",
    "    print(22-i)"
   ]
  },
  {
   "cell_type": "code",
   "execution_count": 110,
   "id": "d4df1a73",
   "metadata": {},
   "outputs": [
    {
     "name": "stdout",
     "output_type": "stream",
     "text": [
      "*\n",
      "\n",
      "**\n",
      "\n",
      "***\n",
      "\n",
      "****\n",
      "\n",
      "*****\n",
      "\n"
     ]
    }
   ],
   "source": [
    "# EJERCICIO 14\n",
    "\n",
    "for i in range (1,6,1):\n",
    "    for j in range(i):\n",
    "        print(\"*\" , end=\"\")\n",
    "    print(\"\\n\")"
   ]
  },
  {
   "cell_type": "code",
   "execution_count": null,
   "id": "066fac5a",
   "metadata": {},
   "outputs": [],
   "source": [
    "# EJERCICIO 15\n",
    "\n",
    "for i in range(1,51,1):\n",
    "    cont = 0\n",
    "    for j in range(1,i+1,1):\n",
    "        if i%j==0:\n",
    "            cont+=1\n",
    "    if cont == 2:\n",
    "        print(i)\n",
    "    "
   ]
  },
  {
   "cell_type": "code",
   "execution_count": null,
   "id": "9b6330b2",
   "metadata": {},
   "outputs": [],
   "source": [
    "# EJERCICIO 16\n",
    "\n",
    "cadena = input(\"Digite una cadena de texto: \")\n",
    "vocal = input(\"Digite la vocal que desea contar: \")\n",
    "\n",
    "contador_vocal = 0\n",
    "\n",
    "for letra in cadena:\n",
    "    if letra.lower() in vocal.lower():\n",
    "        contador_vocal += 1\n",
    "print(cadena)\n",
    "print(\"La cantidad de veces que aparece la vocal es : \",contador_vocal )"
   ]
  },
  {
   "cell_type": "code",
   "execution_count": null,
   "id": "e66aadb3",
   "metadata": {},
   "outputs": [],
   "source": [
    "# EJERCICIO 17\n",
    "\n",
    "i = 0\n",
    "clave = \"oscarfalla123\"\n",
    "print(\"BIENVENIDO AL CAJERO AUTOMATICO\")\n",
    "while i < 3:\n",
    "    contrasena = input(\"Digite la contraseña del cajero automatico: \")\n",
    "    if contrasena == clave:\n",
    "        print(\"En hora buena, la contraseña es correcta.\")\n",
    "        break\n",
    "    else:\n",
    "        print(\"La contraseña es incorrecta, intentelo de nuevo.\")\n",
    "    i+=1 \n",
    "else:\n",
    "    print(\"Lo siento, has superado el numero de intento disponible.\")"
   ]
  },
  {
   "cell_type": "code",
   "execution_count": null,
   "id": "a297cbf4",
   "metadata": {},
   "outputs": [],
   "source": [
    "# EJERCICIO 18\n",
    "\n",
    "n = int(input(\"Ingrese la cantidad de términos: \"))\n",
    "\n",
    "a = 0\n",
    "b = 1\n",
    "\n",
    "for i in range(n):\n",
    "    print(a, end=\" \")\n",
    "    siguiente = a + b\n",
    "    a = b\n",
    "    b = siguiente\n",
    "\n"
   ]
  },
  {
   "cell_type": "code",
   "execution_count": null,
   "id": "086fef49",
   "metadata": {},
   "outputs": [
    {
     "name": "stdout",
     "output_type": "stream",
     "text": [
      "['PEDRO', 'PADRE', 'PAPA', 'ERWIN', 'DANNY']\n"
     ]
    }
   ],
   "source": [
    "#   EJERCICIO 19\n",
    "lista_palabras = []\n",
    "for i in range (5):\n",
    "    palabra = input(\"Digite una palabra: \")\n",
    "    lista_palabras.append(palabra.upper())\n",
    "\n",
    "print(lista_palabras)"
   ]
  },
  {
   "cell_type": "code",
   "execution_count": 5,
   "id": "55ad98f8",
   "metadata": {},
   "outputs": [
    {
     "name": "stdout",
     "output_type": "stream",
     "text": [
      "El número invertido es: 321\n"
     ]
    }
   ],
   "source": [
    "# EJERCICIO 20\n",
    "\n",
    "numero = int(input(\"Digite un número entero: \"))\n",
    "invertido = \"\"\n",
    "\n",
    "while numero > 0:\n",
    "    digito = numero % 10\n",
    "    invertido += str(digito)\n",
    "    numero = numero // 10\n",
    "\n",
    "print(\"El número invertido es:\", invertido)\n",
    "\n"
   ]
  }
 ],
 "metadata": {
  "kernelspec": {
   "display_name": "Python 3",
   "language": "python",
   "name": "python3"
  },
  "language_info": {
   "codemirror_mode": {
    "name": "ipython",
    "version": 3
   },
   "file_extension": ".py",
   "mimetype": "text/x-python",
   "name": "python",
   "nbconvert_exporter": "python",
   "pygments_lexer": "ipython3",
   "version": "3.13.0"
  }
 },
 "nbformat": 4,
 "nbformat_minor": 5
}
