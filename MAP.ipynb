{
  "cells": [
    {
      "cell_type": "markdown",
      "metadata": {},
      "source": [
        "# Python `map()` — Guía completa\n",
        "\n",
        "_Notebook generado el 2025-08-10 00:38:44 UTC_.\n",
        "\n",
        "Este notebook cubre en detalle la función incorporada `map()` de Python 3: comportamiento, ejemplos para cada caso (funciones normales, `lambda`, múltiples iterables, `None`, funciones con efectos secundarios, combinaciones con `itertools`, `operator`, `functools.partial`), comparaciones con comprensiones de lista, rendimiento y buenas prácticas. Está pensado para una competencia nacional — toma en serio los ejemplos, todas las celdas son ejecutables y autocontenidas."
      ]
    },
    {
      "cell_type": "markdown",
      "metadata": {},
      "source": [
        "## 1. ¿Qué hace `map()`?\n",
        "\n",
        "- `map(function, iterable, ...)` aplica `function` a cada elemento de uno o más iterables y devuelve un **objeto iterador** (lazy) en Python 3.\n",
        "- Si se pasan múltiples iterables, `function` debe aceptar ese número de argumentos; `map` se detiene cuando el iterable más corto se agota.\n",
        "- No confundir con Python 2 — en Python 2 `map()` devolvía lista (y `map(None, ...)` tenía comportamiento diferente)."
      ]
    },
    {
      "cell_type": "code",
      "execution_count": 1,
      "metadata": {},
      "outputs": [
        {
          "name": "stdout",
          "output_type": "stream",
          "text": [
            "map object: <map object at 0x0000016F3EFCCDC0>\n",
            "Consumir con list(): [1, 4, 9, 16]\n",
            "Consumir otra vez (vacío): []\n"
          ]
        }
      ],
      "source": [
        "# Ejemplo mínimo — map retorna un iterador (lazy) en Python 3\n",
        "def cuadrado(x):\n",
        "    return x * x\n",
        "\n",
        "it = map(cuadrado, [1, 2, 3, 4])\n",
        "print('map object:', it)\n",
        "print('Consumir con list():', list(it))\n",
        "# Al volver a consumir el mismo iterador no habrá elementos\n",
        "print('Consumir otra vez (vacío):', list(it))\n"
      ]
    },
    {
      "cell_type": "markdown",
      "metadata": {},
      "source": [
        "## 2. `map()` con `lambda` — caso muy común\n"
      ]
    },
    {
      "cell_type": "code",
      "execution_count": null,
      "metadata": {},
      "outputs": [],
      "source": [
        "# Usando lambda para transformar una lista de strings a enteros (trim incluido)\n",
        "strings = [' 10', '20 ', '  30']\n",
        "res = map(lambda s: int(s.strip()), strings)\n",
        "print(list(res))\n"
      ]
    },
    {
      "cell_type": "markdown",
      "metadata": {},
      "source": [
        "## 3. Múltiples iterables\n",
        "\n",
        "- Si pasas varios iterables, la función recibirá argumentos de cada iterable en paralelo.\n",
        "- `map` termina cuando el iterable más corto se agota.\n"
      ]
    },
    {
      "cell_type": "code",
      "execution_count": null,
      "metadata": {},
      "outputs": [],
      "source": [
        "a = [1, 2, 3]\n",
        "b = [10, 20, 30, 40]\n",
        "def suma(x, y):\n",
        "    return x + y\n",
        "\n",
        "print(list(map(suma, a, b)))  # se para en el elemento 3 (más corto es `a`)\n",
        "\n",
        "# Con lambda\n",
        "print(list(map(lambda x, y: x * y, a, b)))\n"
      ]
    },
    {
      "cell_type": "markdown",
      "metadata": {},
      "source": [
        "## 4. `map()` y evaluación perezosa (lazy evaluation)\n",
        "\n",
        "- `map()` devuelve un iterador: **no** realiza trabajo hasta que consumes el resultado (ej. `list()`, `for` loop o `next()`).\n",
        "- Útil para ahorrar memoria en transformaciones grandes.\n"
      ]
    },
    {
      "cell_type": "code",
      "execution_count": null,
      "metadata": {},
      "outputs": [],
      "source": [
        "import itertools\n",
        "\n",
        "def triple(x):\n",
        "    print('procesando', x)\n",
        "    return x * 3\n",
        "\n",
        "it = map(triple, range(5))\n",
        "print('antes de consumir')\n",
        "print(next(it))  # solo procesa el primer elemento\n",
        "print('despues de next')\n",
        "print(list(it))  # consume el resto\n"
      ]
    },
    {
      "cell_type": "markdown",
      "metadata": {},
      "source": [
        "## 5. `map()` vs comprensiones de lista\n",
        "\n",
        "- Comprensiones: más legibles en muchas situaciones, y devuelven listas (en Python 3).\n",
        "- `map()` útil cuando ya tienes una función nombrada, o quieres un iterador perezoso.\n",
        "\n",
        "Ejemplo equivalente:\n"
      ]
    },
    {
      "cell_type": "code",
      "execution_count": null,
      "metadata": {},
      "outputs": [],
      "source": [
        "nums = [1, 2, 3, 4]\n",
        "def doble(x):\n",
        "    return 2 * x\n",
        "\n",
        "print('map:', list(map(doble, nums)))\n",
        "print('list comp:', [doble(x) for x in nums])\n",
        "\n",
        "# Cuando la transformacion es simple, la comprension suele ganar en claridad\n",
        "print('lambda con map:', list(map(lambda x: x + 1, nums)))\n",
        "print('lambda con list comp:', [x + 1 for x in nums])\n"
      ]
    },
    {
      "cell_type": "markdown",
      "metadata": {},
      "source": [
        "## 6. `map()` y funciones con efectos secundarios\n",
        "\n",
        "- `map()` puede ser usado para ejecutar funciones con efectos secundarios (por ejemplo imprimir), pero **no** es la mejor práctica si el propósito es solo efectos secundarios: un bucle `for` es más claro.\n"
      ]
    },
    {
      "cell_type": "code",
      "execution_count": null,
      "metadata": {},
      "outputs": [],
      "source": [
        "def imprimir(x):\n",
        "    print('->', x)\n",
        "\n",
        "list(map(imprimir, [1, 2, 3]))  # fuerza la evaluación\n",
        "\n",
        "# Mejor con for:\n",
        "for x in [1, 2, 3]:\n",
        "    imprimir(x)\n"
      ]
    },
    {
      "cell_type": "markdown",
      "metadata": {},
      "source": [
        "## 7. Uso con `operator` y `methodcaller` — llamadas a métodos/atributos de forma eficiente\n"
      ]
    },
    {
      "cell_type": "code",
      "execution_count": null,
      "metadata": {},
      "outputs": [],
      "source": [
        "from operator import methodcaller, itemgetter\n",
        "\n",
        "strings = [' hello ', ' world ', 'python ']\n",
        "# Aplicar strip con methodcaller\n",
        "print(list(map(methodcaller('strip'), strings)))\n",
        "\n",
        "tuplas = [(1, 'a'), (2, 'b'), (3, 'c')]\n",
        "print(list(map(itemgetter(1), tuplas)))  # extraer segundo elemento de cada tupla\n"
      ]
    },
    {
      "cell_type": "markdown",
      "metadata": {},
      "source": [
        "## 8. `functools.partial` para prellenar argumentos\n"
      ]
    },
    {
      "cell_type": "code",
      "execution_count": null,
      "metadata": {},
      "outputs": [],
      "source": [
        "from functools import partial\n",
        "\n",
        "def potencia(base, exp):\n",
        "    return base ** exp\n",
        "\n",
        "cuadrado = partial(potencia, exp=2)\n",
        "print(list(map(cuadrado, [2, 3, 4])))\n"
      ]
    },
    {
      "cell_type": "markdown",
      "metadata": {},
      "source": [
        "## 9. Combinar `map()` con `itertools` para pipelines eficientes\n"
      ]
    },
    {
      "cell_type": "code",
      "execution_count": null,
      "metadata": {},
      "outputs": [],
      "source": [
        "import itertools\n",
        "\n",
        "data = range(1, 100)\n",
        "# pipeline: map -> filter -> islice (solo los primeros 5 resultados válidos)\n",
        "def es_par(x):\n",
        "    return x % 2 == 0\n",
        "\n",
        "it = map(lambda x: x * x, data)\n",
        "it = filter(es_par, it)\n",
        "it = itertools.islice(it, 5)\n",
        "print(list(it))\n"
      ]
    },
    {
      "cell_type": "markdown",
      "metadata": {},
      "source": [
        "## 10. Errores comunes y casos límite\n",
        "\n",
        "- Usar `map` con una función que no acepta el número correcto de argumentos -> `TypeError`.\n",
        "- `map` termina con el iterable más corto cuando hay varios.\n",
        "- En Python 3 `map(None, ...)` no tiene sentido (a diferencia de Python 2).\n"
      ]
    },
    {
      "cell_type": "code",
      "execution_count": null,
      "metadata": {},
      "outputs": [],
      "source": [
        "try:\n",
        "    # función que espera 1 arg pero le pasamos 2 iterables\n",
        "    list(map(lambda x: x * 2, [1,2], [3,4]))\n",
        "except TypeError as e:\n",
        "    print('TypeError esperado:', e)\n",
        "\n",
        "# map se detiene con el iterable más corto\n",
        "print(list(map(lambda x, y: (x, y), [1,2,3], [10,20])))\n"
      ]
    },
    {
      "cell_type": "markdown",
      "metadata": {},
      "source": [
        "## 11. `map()` vs `for` y cuándo preferir cada uno\n",
        "\n",
        "- Usa `map()` cuando:\n",
        "  - Tienes una función existente y quieres aplicarla a cada elemento.\n",
        "  - Necesitas un iterador perezoso en una pipeline.\n",
        "- Usa `for` cuando:\n",
        "  - Hay efectos secundarios claros o la transformación es compleja y deseas legibilidad.\n"
      ]
    },
    {
      "cell_type": "markdown",
      "metadata": {},
      "source": [
        "## 12. Rendimiento (nota rápida)\n",
        "\n",
        "- `map()` puede ser ligeramente más rápido que una list comprehension cuando la función aplicada es una función ya compilada (no `lambda`) porque evita la sobrecarga del bucle en Python puro en algunos casos.\n",
        "- Pero la diferencia es pequeña; favorece claridad.\n"
      ]
    },
    {
      "cell_type": "code",
      "execution_count": null,
      "metadata": {},
      "outputs": [],
      "source": [
        "import timeit\n",
        "\n",
        "setup = 'nums = list(range(1000))\\nfrom math import sqrt'\n",
        "stmt_map = 'list(map(sqrt, nums))'\n",
        "stmt_comp = '[sqrt(x) for x in nums]'\n",
        "t_map = timeit.timeit(stmt_map, setup=setup, number=100)\n",
        "t_comp = timeit.timeit(stmt_comp, setup=setup, number=100)\n",
        "print('map:', t_map)\n",
        "print('list comp:', t_comp)\n"
      ]
    },
    {
      "cell_type": "markdown",
      "metadata": {},
      "source": [
        "## 13. Casos prácticos (mini-problemas resueltos)\n",
        "\n",
        "1. Convertir lista de fechas en strings a objetos `datetime`.\n",
        "2. Normalizar (lowercase + strip) una lista de palabras.\n",
        "3. Aplicar función con múltiples iterables (suma ponderada).\n"
      ]
    },
    {
      "cell_type": "code",
      "execution_count": null,
      "metadata": {},
      "outputs": [],
      "source": [
        "from datetime import datetime\n",
        "\n",
        "# 1: parsear fechas\n",
        "dates = ['2020-01-01', '2021-12-31', ' 2022-06-15 ']\n",
        "parsed = list(map(lambda s: datetime.strptime(s.strip(), '%Y-%m-%d'), dates))\n",
        "print(parsed)\n",
        "\n",
        "# 2: normalizar palabras\n",
        "words = [' Hello', 'WORLD ', ' PyThOn ']\n",
        "print(list(map(lambda s: s.strip().lower(), words)))\n",
        "\n",
        "# 3: suma ponderada\n",
        "vals = [10, 20, 30]\n",
        "weights = [0.1, 0.2, 0.7]\n",
        "print(list(map(lambda v, w: v * w, vals, weights)))\n"
      ]
    },
    {
      "cell_type": "markdown",
      "metadata": {},
      "source": [
        "## 14. Buenas prácticas y checklist para una competencia\n",
        "\n",
        "- Prefiere funciones nombradas cuando la lógica es compleja (mejor trazabilidad en trazas y perfiles).\n",
        "- Si necesitas todos los resultados en memoria, conviértelo a `list()` al final.\n",
        "- Evita `map()` para efectos secundarios: usa `for`.\n",
        "- Cuando uses múltiples iterables, confirma longitudes o usa `itertools.zip_longest` si quieres otro comportamiento.\n",
        "- Comenta tu intención: `# pipeline: map(...) -> filter(...)` ayuda a los revisores.\n"
      ]
    },
    {
      "cell_type": "markdown",
      "metadata": {},
      "source": [
        "## 15. Apéndice — ejemplos avanzados\n",
        "\n",
        "- `zip_longest` para emular comportamiento diferente al detenerse en el más corto.\n",
        "- `map()` con métodos de clase a través de `operator.methodcaller`.\n"
      ]
    },
    {
      "cell_type": "code",
      "execution_count": null,
      "metadata": {},
      "outputs": [],
      "source": [
        "from itertools import zip_longest\n",
        "\n",
        "a = [1,2]\n",
        "b = [10,20,30]\n",
        "print('map (se corta):', list(map(lambda x, y: (x,y), a, b)))\n",
        "print('zip_longest + map emulado:', list(map(lambda x_y: x_y, zip_longest(a, b, fillvalue=None))))\n"
      ]
    },
    {
      "cell_type": "markdown",
      "metadata": {},
      "source": [
        "### Fin\n",
        "\n",
        "Este notebook está pensado para cubrir casi todos los casos de uso razonables de `map()` en Python 3. Si quieres, puedo añadir:\n",
        "- Más benchmarks (big-O, memoria) comparativos.\n",
        "- Sección para `multiprocessing.Pool.map` y `concurrent.futures` (paralelismo).\n",
        "- Transformaciones aplicadas a `pandas.Series.map` vs `map()` built-in.\n",
        "\n",
        "Dime si deseas que agregue alguna de estas secciones y la incorporo."
      ]
    }
  ],
  "metadata": {
    "kernelspec": {
      "display_name": "Python 3",
      "language": "python",
      "name": "python3"
    },
    "language_info": {
      "codemirror_mode": {
        "name": "ipython",
        "version": 3
      },
      "file_extension": ".py",
      "mimetype": "text/x-python",
      "name": "python",
      "nbconvert_exporter": "python",
      "pygments_lexer": "ipython3",
      "version": "3.13.0"
    }
  },
  "nbformat": 4,
  "nbformat_minor": 5
}
