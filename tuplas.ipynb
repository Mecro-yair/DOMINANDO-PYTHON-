{
 "cells": [
  {
   "cell_type": "markdown",
   "metadata": {},
   "source": [
    "# Tuplas en Python\n",
    "## Tutorial completo basado en W3Schools\n",
    "\n",
    "Las tuplas son colecciones ordenadas e inmutables que permiten elementos duplicados."
   ]
  },
  {
   "cell_type": "markdown",
   "metadata": {},
   "source": [
    "## 1. Características básicas de las tuplas"
   ]
  },
  {
   "cell_type": "code",
   "execution_count": null,
   "metadata": {},
   "outputs": [],
   "source": [
    "# Las tuplas son:\n",
    "# - Ordenadas: Mantienen el orden de inserción\n",
    "# - Inmutables: No se pueden modificar después de su creación\n",
    "# - Permiten duplicados\n",
    "\n",
    "# Ejemplo básico\n",
    "frutas = (\"manzana\", \"banana\", \"cereza\")\n",
    "print(f\"Tupla de frutas: {frutas}\")\n",
    "print(f\"Tipo de dato: {type(frutas)}\")\n",
    "print(f\"Longitud: {len(frutas)}\")"
   ]
  },
  {
   "cell_type": "markdown",
   "metadata": {},
   "source": [
    "## 2. Creación de tuplas"
   ]
  },
  {
   "cell_type": "code",
   "execution_count": null,
   "metadata": {},
   "outputs": [],
   "source": [
    "# Diferentes formas de crear tuplas\n",
    "tupla1 = (\"manzana\", \"banana\", \"cereza\")  # Usando paréntesis\n",
    "tupla2 = \"manzana\", \"banana\", \"cereza\"     # Sin paréntesis (tupla por defecto)\n",
    "tupla3 = tuple((\"manzana\", \"banana\", \"cereza\"))  # Usando constructor tuple()\n",
    "\n",
    "# Tupla con un solo elemento (requiere coma)\n",
    "tupla_un_elemento = (\"manzana\",)\n",
    "no_tupla = (\"manzana\")\n",
    "\n",
    "print(f\"Tipo con coma: {type(tupla_un_elemento)}\")\n",
    "print(f\"Tipo sin coma: {type(no_tupla)}\")"
   ]
  },
  {
   "cell_type": "markdown",
   "metadata": {},
   "source": [
    "## 3. Acceso a elementos"
   ]
  },
  {
   "cell_type": "code",
   "execution_count": null,
   "metadata": {},
   "outputs": [],
   "source": [
    "# Indexación positiva (comienza en 0)\n",
    "print(f\"Primer elemento: {frutas[0]}\")\n",
    "\n",
    "# Indexación negativa (comienza en -1 desde el final)\n",
    "print(f\"Último elemento: {frutas[-1]}\")\n",
    "\n",
    "# Slicing (subtuplas)\n",
    "numeros = (1, 2, 3, 4, 5, 6, 7, 8, 9)\n",
    "print(f\"Elementos del 2 al 5: {numeros[1:5]}\")\n",
    "print(f\"Primeros 3 elementos: {numeros[:3]}\")\n",
    "print(f\"Elementos desde el 4: {numeros[3:]}\")\n",
    "print(f\"Cada segundo elemento: {numeros[::2]}\")\n",
    "\n",
    "# Comprobar existencia\n",
    "print(f\"¿'banana' está en la tupla? {'banana' in frutas}\")"
   ]
  },
  {
   "cell_type": "markdown",
   "metadata": {},
   "source": [
    "## 4. Operaciones con tuplas"
   ]
  },
  {
   "cell_type": "code",
   "execution_count": null,
   "metadata": {},
   "outputs": [],
   "source": [
    "# Concatenación\n",
    "tupla_a = (1, 2, 3)\n",
    "tupla_b = (4, 5, 6)\n",
    "tupla_c = tupla_a + tupla_b\n",
    "print(f\"Tuplas concatenadas: {tupla_c}\")\n",
    "\n",
    "# Repetición\n",
    "tupla_repetida = (\"hola\",) * 3\n",
    "print(f\"Tupla repetida: {tupla_repetida}\")\n",
    "\n",
    "# Desempaquetado\n",
    "colores = (\"rojo\", \"verde\", \"azul\")\n",
    "(primario, secundario, terciario) = colores\n",
    "print(f\"Primer color: {primario}\")\n",
    "\n",
    "# Desempaquetado con asterisco\n",
    "numeros = (1, 2, 3, 4, 5)\n",
    "(primero, *medio, ultimo) = numeros\n",
    "print(f\"Primero: {primero}, Medio: {medio}, Último: {ultimo}\")"
   ]
  },
  {
   "cell_type": "markdown",
   "metadata": {},
   "source": [
    "## 5. Métodos disponibles"
   ]
  },
  {
   "cell_type": "code",
   "execution_count": null,
   "metadata": {},
   "outputs": [],
   "source": [
    "# count() - Cuenta ocurrencias de un valor\n",
    "tupla_con_duplicados = (1, 2, 2, 3, 2, 4)\n",
    "print(f\"Número de 2s: {tupla_con_duplicados.count(2)}\")\n",
    "\n",
    "# index() - Devuelve la primera posición de un valor\n",
    "print(f\"Índice del primer 3: {tupla_con_duplicados.index(3)}\")"
   ]
  },
  {
   "cell_type": "markdown",
   "metadata": {},
   "source": [
    "## 6. Iteración sobre tuplas"
   ]
  },
  {
   "cell_type": "code",
   "execution_count": null,
   "metadata": {},
   "outputs": [],
   "source": [
    "# For loop directo\n",
    "print(\"Elementos de la tupla:\")\n",
    "for fruta in frutas:\n",
    "    print(f\"- {fruta}\")\n",
    "\n",
    "# For loop con índice\n",
    "print(\"\\nElementos con índice:\")\n",
    "for i in range(len(frutas)):\n",
    "    print(f\"{i}: {frutas[i]}\")\n",
    "\n",
    "# While loop\n",
    "print(\"\\nElementos con while:\")\n",
    "i = 0\n",
    "while i < len(frutas):\n",
    "    print(frutas[i])\n",
    "    i += 1"
   ]
  },
  {
   "cell_type": "markdown",
   "metadata": {},
   "source": [
    "## 7. Inmutabilidad y alternativas"
   ]
  },
  {
   "cell_type": "code",
   "execution_count": null,
   "metadata": {},
   "outputs": [],
   "source": [
    "# Las tuplas son inmutables (esto dará error)\n",
    "try:\n",
    "    frutas[0] = \"mango\"\n",
    "except TypeError as e:\n",
    "    print(f\"Error: {e}\")\n",
    "\n",
    "# Alternativa para \"modificar\" una tupla\n",
    "lista_frutas = list(frutas)\n",
    "lista_frutas[1] = \"kiwi\"\n",
    "nuevas_frutas = tuple(lista_frutas)\n",
    "print(f\"Tupla 'modificada': {nuevas_frutas}\")\n",
    "\n",
    "# Eliminar una tupla completa\n",
    "temp_tuple = (1, 2, 3)\n",
    "del temp_tuple\n",
    "# print(temp_tuple)  # Esto dará error porque la tupla ya no existe"
   ]
  },
  {
   "cell_type": "markdown",
   "metadata": {},
   "source": [
    "## 8. Casos de uso comunes"
   ]
  },
  {
   "cell_type": "code",
   "execution_count": null,
   "metadata": {},
   "outputs": [],
   "source": [
    "# Retorno múltiple de funciones\n",
    "def operaciones(a, b):\n",
    "    suma = a + b\n",
    "    resta = a - b\n",
    "    multiplicacion = a * b\n",
    "    return suma, resta, multiplicacion\n",
    "\n",
    "resultados = operaciones(10, 5)\n",
    "print(f\"Resultados: {resultados}\")\n",
    "\n",
    "# Diccionarios con tuplas como claves (porque son hashables)\n",
    "coordenadas = {\n",
    "    (35.6895, 139.6917): \"Tokio\",\n",
    "    (40.7128, -74.0060): \"Nueva York\"\n",
    "}\n",
    "print(f\"Ciudad en (40.7128, -74.0060): {coordenadas[(40.7128, -74.0060)]}\")"
   ]
  }
 ],
 "metadata": {
  "kernelspec": {
   "display_name": "Python 3",
   "language": "python",
   "name": "python3"
  },
  "language_info": {
   "codemirror_mode": {
    "name": "ipython",
    "version": 3
   },
   "file_extension": ".py",
   "mimetype": "text/x-python",
   "name": "python",
   "nbconvert_exporter": "python",
   "pygments_lexer": "ipython3",
   "version": "3.13.0"
  }
 },
 "nbformat": 4,
 "nbformat_minor": 5
}
