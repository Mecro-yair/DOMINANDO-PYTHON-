{
 "cells": [
  {
   "cell_type": "markdown",
   "id": "0fcfe972",
   "metadata": {},
   "source": [
    "## 1. Entrada por teclado\n",
    "La función `input()` permite al usuario introducir datos manualmente desde la consola. El valor ingresado siempre será interpretado como una cadena (`str`)."
   ]
  },
  {
   "cell_type": "code",
   "execution_count": 1,
   "id": "dbe8f0bf",
   "metadata": {},
   "outputs": [
    {
     "name": "stdout",
     "output_type": "stream",
     "text": [
      "Hola, ERWIN!\n"
     ]
    }
   ],
   "source": [
    "nombre = input(\"Introduce tu nombre: \")\n",
    "print(f\"Hola, {nombre}!\")"
   ]
  },
  {
   "cell_type": "markdown",
   "id": "b5183d1c",
   "metadata": {},
   "source": [
    "## 2. Lectura de archivo `.txt`\n",
    "Para leer archivos de texto plano, se puede usar la función `open()` en modo lectura (`'r'`). Esto es útil cuando el contenido no está estructurado en forma de tabla."
   ]
  },
  {
   "cell_type": "code",
   "execution_count": 3,
   "id": "4da2683a",
   "metadata": {},
   "outputs": [
    {
     "name": "stdout",
     "output_type": "stream",
     "text": [
      "Contenido del archivo:\n",
      "Guardado en archivo\n",
      "\n"
     ]
    }
   ],
   "source": [
    "with open(\"salida.txt\", \"r\", encoding=\"utf-8\") as archivo:\n",
    "    contenido = archivo.read()\n",
    "print(\"Contenido del archivo:\")\n",
    "print(contenido)"
   ]
  },
  {
   "cell_type": "markdown",
   "id": "5b122e6e",
   "metadata": {},
   "source": [
    "## 3. Lectura de archivo `.csv` con pandas\n",
    "Los archivos CSV (valores separados por comas) son muy comunes para datos tabulares. La librería `pandas` facilita su lectura usando `read_csv()`, devolviendo un DataFrame."
   ]
  },
  {
   "cell_type": "code",
   "execution_count": 5,
   "id": "957dc35c",
   "metadata": {},
   "outputs": [
    {
     "name": "stdout",
     "output_type": "stream",
     "text": [
      "Primeras 5 filas:\n",
      "   Nombre  Edad     Ciudad\n",
      "0     Ana    25     Madrid\n",
      "1    Luis    30  Barcelona\n",
      "2  Carmen    22   Valencia\n",
      "3   Pedro    28    Sevilla\n",
      "4   Lucía    35   Zaragoza\n",
      "\n",
      "Últimas 5 filas:\n",
      "   Nombre  Edad    Ciudad\n",
      "5   María    26    Bilbao\n",
      "6    José    31   Granada\n",
      "7   Elena    24    Toledo\n",
      "8  Andrés    29    Málaga\n",
      "9   Sofía    27  Alicante\n",
      "\n",
      "Todo el contenido de ´datos.csv´:\n",
      "   Nombre  Edad     Ciudad\n",
      "0     Ana    25     Madrid\n",
      "1    Luis    30  Barcelona\n",
      "2  Carmen    22   Valencia\n",
      "3   Pedro    28    Sevilla\n",
      "4   Lucía    35   Zaragoza\n",
      "5   María    26     Bilbao\n",
      "6    José    31    Granada\n",
      "7   Elena    24     Toledo\n",
      "8  Andrés    29     Málaga\n",
      "9   Sofía    27   Alicante\n"
     ]
    }
   ],
   "source": [
    "import pandas as pd\n",
    "\n",
    "df = pd.read_csv(\"datos.csv\")\n",
    "\n",
    "print(\"Primeras 5 filas:\")\n",
    "print(df.head())\n",
    "\n",
    "print(\"\\nÚltimas 5 filas:\")\n",
    "print(df.tail())\n",
    "\n",
    "print(\"\\nTodo el contenido de ´datos.csv´:\")\n",
    "print(df)"
   ]
  },
  {
   "cell_type": "markdown",
   "id": "28e4337e",
   "metadata": {},
   "source": [
    "## 4. Lectura de archivo `.json`\n",
    "JSON (JavaScript Object Notation) es un formato ligero para intercambio de datos. Se puede leer con la librería estándar `json`, convirtiéndolo en diccionarios o listas."
   ]
  },
  {
   "cell_type": "code",
   "execution_count": 8,
   "id": "324ce334",
   "metadata": {},
   "outputs": [
    {
     "name": "stdout",
     "output_type": "stream",
     "text": [
      "Contenido del JSON:\n",
      "[{'Nombre': 'Ana', 'Edad': 25, 'Ciudad': 'Madrid'}, {'Nombre': 'Luis', 'Edad': 30, 'Ciudad': 'Barcelona'}, {'Nombre': 'Carmen', 'Edad': 22, 'Ciudad': 'Valencia'}, {'Nombre': 'Pedro', 'Edad': 28, 'Ciudad': 'Sevilla'}, {'Nombre': 'Lucía', 'Edad': 35, 'Ciudad': 'Zaragoza'}, {'Nombre': 'María', 'Edad': 26, 'Ciudad': 'Bilbao'}, {'Nombre': 'José', 'Edad': 31, 'Ciudad': 'Granada'}, {'Nombre': 'Elena', 'Edad': 24, 'Ciudad': 'Toledo'}, {'Nombre': 'Andrés', 'Edad': 29, 'Ciudad': 'Málaga'}, {'Nombre': 'Sofía', 'Edad': 27, 'Ciudad': 'Alicante'}]\n",
      "\n",
      "Tipo de datos: <class 'list'>\n",
      "Tipo del primer elemento: <class 'dict'>\n",
      "\n",
      "DataFrame resultante:\n",
      "   Nombre  Edad     Ciudad\n",
      "0     Ana    25     Madrid\n",
      "1    Luis    30  Barcelona\n",
      "2  Carmen    22   Valencia\n",
      "3   Pedro    28    Sevilla\n",
      "4   Lucía    35   Zaragoza\n",
      "5   María    26     Bilbao\n",
      "6    José    31    Granada\n",
      "7   Elena    24     Toledo\n",
      "8  Andrés    29     Málaga\n",
      "9   Sofía    27   Alicante\n"
     ]
    }
   ],
   "source": [
    "import json\n",
    "import pandas as pd\n",
    "\n",
    "# Leer el archivo JSON\n",
    "with open(\"datos.json\", \"r\", encoding=\"utf-8\") as f:\n",
    "    datos = json.load(f)\n",
    "\n",
    "#Mostrar el contenido del JSON\n",
    "print(\"Contenido del JSON:\")\n",
    "print(datos)\n",
    "# Mostrar el tipo de dato original\n",
    "print(\"\\nTipo de datos:\", type(datos))          # <class 'list'>\n",
    "print(\"Tipo del primer elemento:\", type(datos[0]))  # <class 'dict'>\n",
    "\n",
    "# Convertir a DataFrame\n",
    "df = pd.DataFrame(datos)\n",
    "\n",
    "# Mostrar el DataFrame\n",
    "print(\"\\nDataFrame resultante:\")\n",
    "print(df)\n",
    "\n"
   ]
  },
  {
   "cell_type": "markdown",
   "id": "71d3964b",
   "metadata": {},
   "source": [
    "## 5. Entrada desde argumentos de línea de comandos (`sys.argv`)\n",
    "Usado principalmente en scripts ejecutados desde consola. `sys.argv` es una lista que contiene el nombre del script y los argumentos pasados por línea de comandos."
   ]
  },
  {
   "cell_type": "code",
   "execution_count": 9,
   "id": "8b3015f2",
   "metadata": {},
   "outputs": [
    {
     "name": "stdout",
     "output_type": "stream",
     "text": [
      "Argumentos recibidos:\n",
      "['C:\\\\Users\\\\Mecro\\\\AppData\\\\Roaming\\\\Python\\\\Python313\\\\site-packages\\\\ipykernel_launcher.py', '--f=c:\\\\Users\\\\Mecro\\\\AppData\\\\Roaming\\\\jupyter\\\\runtime\\\\kernel-v3c5d0dbb7288b9b0384194f74b3387a593d9e2da6.json']\n"
     ]
    }
   ],
   "source": [
    "import sys\n",
    "\n",
    "print(\"Argumentos recibidos:\")\n",
    "print(sys.argv)"
   ]
  },
  {
   "cell_type": "markdown",
   "id": "17a5bc77",
   "metadata": {},
   "source": [
    "## 6. Lectura desde una URL (`requests`)\n",
    "Se puede obtener contenido desde la web usando la librería `requests`, muy útil para APIs REST. Por ejemplo, se puede leer JSON directamente desde una URL."
   ]
  },
  {
   "cell_type": "code",
   "execution_count": 13,
   "id": "cc3d4b98",
   "metadata": {},
   "outputs": [
    {
     "name": "stdout",
     "output_type": "stream",
     "text": [
      "Datos desde la URL:\n",
      "{'userId': 1, 'id': 1, 'title': 'sunt aut facere repellat provident occaecati excepturi optio reprehenderit', 'body': 'quia et suscipit\\nsuscipit recusandae consequuntur expedita et cum\\nreprehenderit molestiae ut ut quas totam\\nnostrum rerum est autem sunt rem eveniet architecto'}\n"
     ]
    }
   ],
   "source": [
    "import requests\n",
    "\n",
    "url = \"https://jsonplaceholder.typicode.com/posts/1\"\n",
    "respuesta = requests.get(url)\n",
    "datos = respuesta.json()\n",
    "print(\"Datos desde la URL:\")\n",
    "print(datos)"
   ]
  },
  {
   "cell_type": "markdown",
   "id": "73ce930a",
   "metadata": {},
   "source": [
    "## 7. Lectura de CSV desde URL con `pandas`\n",
    "`pandas.read_csv()` también permite leer archivos CSV directamente desde URLs públicas."
   ]
  },
  {
   "cell_type": "code",
   "execution_count": 17,
   "id": "bab2aa55",
   "metadata": {},
   "outputs": [
    {
     "name": "stdout",
     "output_type": "stream",
     "text": [
      "🔹 Primeras filas:\n",
      "   Index   Height(Inches)\"   \"Weight(Pounds)\"\n",
      "0      1             65.78             112.99\n",
      "1      2             71.52             136.49\n",
      "2      3             69.40             153.03\n",
      "3      4             68.22             142.34\n",
      "4      5             67.79             144.30\n",
      "🔹 Últimas filas:\n",
      "     Index   Height(Inches)\"   \"Weight(Pounds)\"\n",
      "195    196             65.80             120.84\n",
      "196    197             66.11             115.78\n",
      "197    198             68.24             128.30\n",
      "198    199             68.02             127.47\n",
      "199    200             71.39             127.88\n",
      "🔹 Todo el DataFrame:\n",
      "     Index   Height(Inches)\"   \"Weight(Pounds)\"\n",
      "0        1             65.78             112.99\n",
      "1        2             71.52             136.49\n",
      "2        3             69.40             153.03\n",
      "3        4             68.22             142.34\n",
      "4        5             67.79             144.30\n",
      "..     ...               ...                ...\n",
      "195    196             65.80             120.84\n",
      "196    197             66.11             115.78\n",
      "197    198             68.24             128.30\n",
      "198    199             68.02             127.47\n",
      "199    200             71.39             127.88\n",
      "\n",
      "[200 rows x 3 columns]\n"
     ]
    }
   ],
   "source": [
    "import pandas as pd  # Importa la biblioteca pandas para manejar datos tabulares\n",
    "\n",
    "# URL de un archivo CSV que contiene datos de altura y peso\n",
    "url = \"https://people.sc.fsu.edu/~jburkardt/data/csv/hw_200.csv\"\n",
    "\n",
    "# Lee el archivo CSV directamente desde la URL y lo carga como un DataFrame\n",
    "df = pd.read_csv(url)\n",
    "\n",
    "# Muestra las primeras 5 filas del DataFrame\n",
    "print(\"🔹 Primeras filas:\")\n",
    "print(df.head())  # head() muestra las primeras 5 filas por defecto\n",
    "\n",
    "# Muestra las últimas 5 filas del DataFrame\n",
    "print(\"🔹 Últimas filas:\")\n",
    "print(df.tail())  # tail() muestra las últimas 5 filas por defecto\n",
    "\n",
    "# Muestra todo el DataFrame (⚠️ solo si es pequeño)\n",
    "print(\"🔹 Todo el DataFrame:\")\n",
    "print(df)\n"
   ]
  },
  {
   "cell_type": "markdown",
   "id": "e9bf3241",
   "metadata": {},
   "source": [
    "## 8. Lectura de archivo Excel (`.xlsx`)\n",
    "`pandas` permite leer archivos de Excel mediante `read_excel()`. Necesita que esté instalado `openpyxl` o `xlrd` como backend."
   ]
  },
  {
   "cell_type": "code",
   "execution_count": 19,
   "id": "0d1d2e58",
   "metadata": {},
   "outputs": [
    {
     "name": "stdout",
     "output_type": "stream",
     "text": [
      "🔹 Primeras filas del archivo Excel:\n",
      "    Nombre  Edad        Ciudad    Profesión  Salario\n",
      "0      Ana    28        Bogotá    Ingeniera     4500\n",
      "1     Luis    35          Lima     Contador     5200\n",
      "2    Marta    42         Quito      Abogada     6100\n",
      "3    Jorge    30      Santiago  Programador     7000\n",
      "4  Daniela    25  Buenos Aires   Diseñadora     3900\n",
      "\n",
      "🔹 Últimas filas del archivo Excel:\n",
      "   Nombre  Edad            Ciudad      Profesión  Salario\n",
      "5   Pedro    33           Caracas      Ingeniero     4800\n",
      "6   Laura    29        Montevideo         Médica     7300\n",
      "7  Andrés    41          Asunción     Arquitecto     6600\n",
      "8  Silvia    37            La Paz      Profesora     4000\n",
      "9   Tomás    31  Ciudad de México  Administrador     5100\n",
      "\n",
      "🔹 Dimensiones del DataFrame:\n",
      "Filas y columnas: (10, 5)\n",
      "\n",
      "🔹 Nombres de las columnas:\n",
      "['Nombre', 'Edad', 'Ciudad', 'Profesión', 'Salario']\n",
      "\n",
      "🔹 Tipos de datos por columna:\n",
      "Nombre       object\n",
      "Edad          int64\n",
      "Ciudad       object\n",
      "Profesión    object\n",
      "Salario       int64\n",
      "dtype: object\n",
      "\n",
      "🔹 Estadísticas generales:\n",
      "            Edad    Salario\n",
      "count  10.000000    10.0000\n",
      "mean   33.100000  5450.0000\n",
      "std     5.606544  1228.5945\n",
      "min    25.000000  3900.0000\n",
      "25%    29.250000  4575.0000\n",
      "50%    32.000000  5150.0000\n",
      "75%    36.500000  6475.0000\n",
      "max    42.000000  7300.0000\n",
      "\n",
      "🔹 Todo el contenido del archivo:\n",
      " Nombre  Edad           Ciudad     Profesión  Salario\n",
      "    Ana    28           Bogotá     Ingeniera     4500\n",
      "   Luis    35             Lima      Contador     5200\n",
      "  Marta    42            Quito       Abogada     6100\n",
      "  Jorge    30         Santiago   Programador     7000\n",
      "Daniela    25     Buenos Aires    Diseñadora     3900\n",
      "  Pedro    33          Caracas     Ingeniero     4800\n",
      "  Laura    29       Montevideo        Médica     7300\n",
      " Andrés    41         Asunción    Arquitecto     6600\n",
      " Silvia    37           La Paz     Profesora     4000\n",
      "  Tomás    31 Ciudad de México Administrador     5100\n"
     ]
    }
   ],
   "source": [
    "import pandas as pd\n",
    "\n",
    "# Leer el archivo Excel\n",
    "df = pd.read_excel(\"datos.xlsx\")\n",
    "\n",
    "# Mostrar primeras filas\n",
    "print(\"🔹 Primeras filas del archivo Excel:\")\n",
    "print(df.head())  # head() por defecto muestra las primeras 5 filas\n",
    "\n",
    "# Mostrar últimas filas\n",
    "print(\"\\n🔹 Últimas filas del archivo Excel:\")\n",
    "print(df.tail())  # tail() muestra las últimas 5 filas\n",
    "\n",
    "# Mostrar dimensiones del archivo (filas, columnas)\n",
    "print(\"\\n🔹 Dimensiones del DataFrame:\")\n",
    "print(\"Filas y columnas:\", df.shape)\n",
    "\n",
    "# Mostrar nombres de columnas\n",
    "print(\"\\n🔹 Nombres de las columnas:\")\n",
    "print(df.columns.tolist())\n",
    "\n",
    "# Mostrar tipo de datos por columna\n",
    "print(\"\\n🔹 Tipos de datos por columna:\")\n",
    "print(df.dtypes)\n",
    "\n",
    "# Mostrar estadísticas generales (solo para columnas numéricas)\n",
    "print(\"\\n🔹 Estadísticas generales:\")\n",
    "print(df.describe())\n",
    "\n",
    "# Mostrar todo el contenido (⚠️ si hay pocos datos)\n",
    "print(\"\\n🔹 Todo el contenido del archivo:\")\n",
    "print(df.to_string(index=False))  # Evita mostrar el índice si no lo necesitas\n"
   ]
  },
  {
   "cell_type": "markdown",
   "id": "99d5c630",
   "metadata": {},
   "source": [
    "## 9. Lectura desde base de datos SQLite\n",
    "SQLite es una base de datos ligera basada en archivos. Puedes usar `sqlite3` junto con `pandas.read_sql_query()` para cargar datos como DataFrame."
   ]
  },
  {
   "cell_type": "code",
   "execution_count": null,
   "id": "6498350e",
   "metadata": {},
   "outputs": [
    {
     "name": "stdout",
     "output_type": "stream",
     "text": [
      "Clientes en la base de datos:\n",
      "   id            nombre                          email               telefono\n",
      "0   1  Melissa Thompson         bonnieaustin@simon.com   001-492-905-2417x830\n",
      "1   2  Jennifer Burnett              kylie66@gmail.com     897-462-9320x18771\n",
      "2   3        Jamie Lang        phyllisdavila@gmail.com   +1-698-342-1581x5436\n",
      "3   4      Jimmy Torres             wclark@hotmail.com  +1-278-440-0006x32115\n",
      "4   5       Lindsey May  bradleywilliams@rodriguez.com        +1-286-310-5250\n"
     ]
    }
   ],
   "source": [
    "import sqlite3\n",
    "\n",
    "\n",
    "conn = sqlite3.connect(\"mi_base_de_datos.db\")\n",
    "query = \"SELECT * FROM clientes\"  \n",
    "df = pd.read_sql_query(query, conn)\n",
    "print(\"Clientes en la base de datos:\")\n",
    "print(df.head())\n",
    "conn.close()\n"
   ]
  }
 ],
 "metadata": {
  "kernelspec": {
   "display_name": "Python 3",
   "language": "python",
   "name": "python3"
  },
  "language_info": {
   "codemirror_mode": {
    "name": "ipython",
    "version": 3
   },
   "file_extension": ".py",
   "mimetype": "text/x-python",
   "name": "python",
   "nbconvert_exporter": "python",
   "pygments_lexer": "ipython3",
   "version": "3.13.0"
  }
 },
 "nbformat": 4,
 "nbformat_minor": 5
}
