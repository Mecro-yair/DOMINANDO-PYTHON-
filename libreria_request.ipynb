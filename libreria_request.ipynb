{
 "cells": [
  {
   "cell_type": "markdown",
   "id": "861ecad9",
   "metadata": {},
   "source": [
    "# 🌐 Curso práctico de `requests` en Python\n",
    "Este notebook te enseñará cómo usar la librería `requests` para trabajar con APIs, enviar formularios, subir archivos, descargar datos, manejar autenticación, y mucho más. Cada sección incluye explicaciones paso a paso y ejemplos prácticos."
   ]
  },
  {
   "cell_type": "code",
   "execution_count": null,
   "id": "7f0117d6",
   "metadata": {},
   "outputs": [],
   "source": [
    "# (Opcional) Instala requests si no lo tienes\n",
    "# !pip install requests"
   ]
  },
  {
   "cell_type": "code",
   "execution_count": null,
   "id": "cfa0a17b",
   "metadata": {},
   "outputs": [],
   "source": [
    "import requests\n",
    "import json"
   ]
  },
  {
   "cell_type": "markdown",
   "id": "e2d968f8",
   "metadata": {},
   "source": [
    "## 1. 🔹 GET con parámetros\n",
    "En esta sección, haremos una petición `GET` a una API pública que nos devuelve el clima actual en base a coordenadas geográficas.\n",
    "\n",
    "**`requests.get(url, params=...)`**: permite enviar parámetros como parte de la URL."
   ]
  },
  {
   "cell_type": "code",
   "execution_count": null,
   "id": "5bbf3b2c",
   "metadata": {},
   "outputs": [],
   "source": [
    "\n",
    "params = {\n",
    "    \"latitude\": 40.42,\n",
    "    \"longitude\": -3.70,\n",
    "    \"current_weather\": \"true\"\n",
    "}\n",
    "\n",
    "response = requests.get(\"https://api.open-meteo.com/v1/forecast\", params=params)\n",
    "\n",
    "if response.ok:\n",
    "    data = response.json()\n",
    "    clima = data.get(\"current_weather\", {})\n",
    "    print(\"✅ Clima actual:\", clima)\n",
    "else:\n",
    "    print(\"⚠️ Error en GET:\", response.status_code)\n"
   ]
  },
  {
   "cell_type": "markdown",
   "id": "cd4a7300",
   "metadata": {},
   "source": [
    "## 2. 🔹 POST con datos\n",
    "Hacemos una petición `POST` para enviar datos, como si fuera un formulario web.\n",
    "\n",
    "**`requests.post(url, data=...)`**: envía datos en el cuerpo de la petición."
   ]
  },
  {
   "cell_type": "code",
   "execution_count": null,
   "id": "60fb564d",
   "metadata": {},
   "outputs": [],
   "source": [
    "\n",
    "url_post = \"https://httpbin.org/post\"\n",
    "payload = {\"usuario\": \"juan\", \"clave\": \"12345\"}\n",
    "\n",
    "response = requests.post(url_post, data=payload)\n",
    "\n",
    "if response.ok:\n",
    "    print(\"✅ Respuesta al POST:\")\n",
    "    print(response.json())\n",
    "else:\n",
    "    print(\"⚠️ Error en POST:\", response.status_code)\n"
   ]
  },
  {
   "cell_type": "markdown",
   "id": "8df612a2",
   "metadata": {},
   "source": [
    "## 3. 🔹 Headers personalizados\n",
    "A veces necesitas enviar cabeceras personalizadas para simular un navegador o indicar el tipo de respuesta esperada.\n",
    "\n",
    "**`headers={}`**: se pasa como argumento en `get` o `post` para personalizar las cabeceras HTTP."
   ]
  },
  {
   "cell_type": "code",
   "execution_count": null,
   "id": "0a3dbc03",
   "metadata": {},
   "outputs": [],
   "source": [
    "\n",
    "headers = {\n",
    "    \"User-Agent\": \"MiAgentePython/1.0\",\n",
    "    \"Accept\": \"application/json\"\n",
    "}\n",
    "\n",
    "response = requests.get(\"https://httpbin.org/headers\", headers=headers)\n",
    "print(\"✅ Headers enviados:\")\n",
    "print(response.json()[\"headers\"])\n"
   ]
  },
  {
   "cell_type": "markdown",
   "id": "843a0fde",
   "metadata": {},
   "source": [
    "## 4. 🔹 Autenticación básica\n",
    "Cuando una API necesita autenticación básica (usuario y contraseña), puedes usar el parámetro `auth=(usuario, clave)`."
   ]
  },
  {
   "cell_type": "code",
   "execution_count": null,
   "id": "5e858421",
   "metadata": {},
   "outputs": [],
   "source": [
    "\n",
    "auth_url = \"https://httpbin.org/basic-auth/juan/12345\"\n",
    "\n",
    "response = requests.get(auth_url, auth=(\"juan\", \"12345\"))\n",
    "\n",
    "if response.status_code == 200:\n",
    "    print(\"✅ Autenticación exitosa\")\n",
    "else:\n",
    "    print(\"❌ Autenticación fallida:\", response.status_code)\n"
   ]
  },
  {
   "cell_type": "markdown",
   "id": "132f8e56",
   "metadata": {},
   "source": [
    "## 5. 🔹 Subida de archivos\n",
    "Puedes enviar archivos a un servidor usando el parámetro `files`. Primero, abrimos el archivo en modo binario.\n",
    "\n",
    "**`open(..., 'rb')`**: abre el archivo en modo binario de lectura.\n",
    "\n",
    "**`files={'nombre': archivo}`**: se usa con `requests.post()` para subir archivos."
   ]
  },
  {
   "cell_type": "code",
   "execution_count": null,
   "id": "c8305e5a",
   "metadata": {},
   "outputs": [],
   "source": [
    "\n",
    "with open(\"ejemplo.txt\", \"w\", encoding=\"utf-8\") as f:\n",
    "    f.write(\"Contenido de prueba para subir.\")\n",
    "\n",
    "with open(\"ejemplo.txt\", \"rb\") as archivo:\n",
    "    files = {\"archivo\": archivo}\n",
    "    response = requests.post(\"https://httpbin.org/post\", files=files)\n",
    "\n",
    "    if response.ok:\n",
    "        print(\"✅ Archivo subido correctamente\")\n",
    "        print(response.json()[\"files\"])\n"
   ]
  },
  {
   "cell_type": "markdown",
   "id": "22af61a7",
   "metadata": {},
   "source": [
    "## 6. 🔹 Descarga de archivos\n",
    "Para descargar archivos como imágenes, usamos `response.content` y los guardamos en modo binario (`wb`)."
   ]
  },
  {
   "cell_type": "code",
   "execution_count": null,
   "id": "6e6dbf79",
   "metadata": {},
   "outputs": [],
   "source": [
    "\n",
    "url_img = \"https://httpbin.org/image/png\"\n",
    "\n",
    "response = requests.get(url_img)\n",
    "\n",
    "if response.status_code == 200:\n",
    "    with open(\"descarga.png\", \"wb\") as f:\n",
    "        f.write(response.content)\n",
    "    print(\"✅ Imagen descargada como 'descarga.png'\")\n",
    "else:\n",
    "    print(\"❌ Error al descargar imagen:\", response.status_code)\n"
   ]
  },
  {
   "cell_type": "markdown",
   "id": "b5475b1e",
   "metadata": {},
   "source": [
    "## 7. 🔹 Manejo seguro de JSON\n",
    "Para evitar errores al leer JSON, usamos `try-except` con `json.JSONDecodeError`."
   ]
  },
  {
   "cell_type": "code",
   "execution_count": null,
   "id": "da7f7bf5",
   "metadata": {},
   "outputs": [],
   "source": [
    "\n",
    "try:\n",
    "    data = response.json()\n",
    "    print(\"✅ JSON válido\")\n",
    "except json.JSONDecodeError:\n",
    "    print(\"❌ No es un JSON válido\")\n"
   ]
  }
 ],
 "metadata": {},
 "nbformat": 4,
 "nbformat_minor": 5
}