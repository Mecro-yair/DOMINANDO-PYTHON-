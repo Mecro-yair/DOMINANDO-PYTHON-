{
 "cells": [
  {
   "cell_type": "markdown",
   "id": "29a70ae7",
   "metadata": {},
   "source": [
    "#  Variables en Python\n",
    "Aprenderás qué son, cómo se usan y buenas prácticas."
   ]
  },
  {
   "cell_type": "code",
   "execution_count": 1,
   "id": "9cf554cc",
   "metadata": {},
   "outputs": [],
   "source": [
    "nombre = \"Yair\"\n",
    "edad = 25\n",
    "pi = 3.1416\n",
    "activo = True"
   ]
  },
  {
   "cell_type": "markdown",
   "id": "57d70595",
   "metadata": {},
   "source": [
    "## Ver el contenido de las variables"
   ]
  },
  {
   "cell_type": "code",
   "execution_count": null,
   "id": "cafa90de",
   "metadata": {},
   "outputs": [],
   "source": [
    "print(nombre)\n",
    "print(edad)\n",
    "print(pi)\n",
    "print(activo)"
   ]
  },
  {
   "cell_type": "markdown",
   "id": "8f74297b",
   "metadata": {},
   "source": [
    "## Cambiar el valor de una variable"
   ]
  },
  {
   "cell_type": "code",
   "execution_count": 2,
   "id": "8ef4fc3e",
   "metadata": {},
   "outputs": [
    {
     "name": "stdout",
     "output_type": "stream",
     "text": [
      "30\n"
     ]
    }
   ],
   "source": [
    "edad = 30\n",
    "print(edad)"
   ]
  },
  {
   "cell_type": "markdown",
   "id": "785b80a9",
   "metadata": {},
   "source": [
    "## Saber el tipo de una variable"
   ]
  },
  {
   "cell_type": "code",
   "execution_count": 3,
   "id": "e5b3a1ce",
   "metadata": {},
   "outputs": [
    {
     "name": "stdout",
     "output_type": "stream",
     "text": [
      "<class 'str'>\n",
      "<class 'int'>\n",
      "<class 'float'>\n",
      "<class 'bool'>\n"
     ]
    }
   ],
   "source": [
    "print(type(nombre))\n",
    "print(type(edad))\n",
    "print(type(pi))\n",
    "print(type(activo))"
   ]
  },
  {
   "cell_type": "markdown",
   "id": "d6c1eee4",
   "metadata": {},
   "source": [
    "##  Reglas para nombrar variables\n",
    "- Deben comenzar con una letra o guión bajo (_)\n",
    "- No pueden tener espacios ni símbolos\n",
    "- No usar palabras reservadas de Python"
   ]
  },
  {
   "cell_type": "markdown",
   "id": "bffce495",
   "metadata": {},
   "source": [
    "##  Buenas prácticas\n",
    "- Usa nombres descriptivos\n",
    "- Evita nombres como `x`, `y`, `data1` si no se entiende qué son"
   ]
  },
  {
   "cell_type": "code",
   "execution_count": null,
   "id": "743da37c",
   "metadata": {},
   "outputs": [],
   "source": [
    "precio_producto = 19.99\n",
    "usuario_activo = False\n",
    "print(precio_producto, usuario_activo)"
   ]
  }
 ],
 "metadata": {
  "kernelspec": {
   "display_name": "Python 3",
   "language": "python",
   "name": "python3"
  },
  "language": "python",
  "language_info": {
   "codemirror_mode": {
    "name": "ipython",
    "version": 3
   },
   "file_extension": ".py",
   "mimetype": "text/x-python",
   "name": "python",
   "nbconvert_exporter": "python",
   "pygments_lexer": "ipython3",
   "version": "3.13.0"
  }
 },
 "nbformat": 4,
 "nbformat_minor": 5
}
