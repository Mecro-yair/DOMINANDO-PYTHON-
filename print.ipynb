{
 "cells": [
  {
   "cell_type": "markdown",
   "id": "237c79bc",
   "metadata": {},
   "source": [
    "# Uso de print() en Python\n",
    "\n",
    "Esta notebook muestra todas las características del uso de `print()` en Python "
   ]
  },
  {
   "cell_type": "markdown",
   "id": "76a17987",
   "metadata": {},
   "source": [
    "## Sintaxis básica"
   ]
  },
  {
   "cell_type": "code",
   "execution_count": 7,
   "id": "02900009",
   "metadata": {},
   "outputs": [
    {
     "name": "stdout",
     "output_type": "stream",
     "text": [
      "Hola mundo\n"
     ]
    }
   ],
   "source": [
    "print(\"Hola mundo\")"
   ]
  },
  {
   "cell_type": "markdown",
   "id": "eef5b1ca",
   "metadata": {},
   "source": [
    "## Salto de línea automático"
   ]
  },
  {
   "cell_type": "code",
   "execution_count": 3,
   "id": "26f48100",
   "metadata": {},
   "outputs": [
    {
     "name": "stdout",
     "output_type": "stream",
     "text": [
      "Primera línea\n",
      "Segunda línea\n"
     ]
    }
   ],
   "source": [
    "print(\"Primera línea\")\n",
    "print(\"Segunda línea\")"
   ]
  },
  {
   "cell_type": "markdown",
   "id": "57887f60",
   "metadata": {},
   "source": [
    "## Imprimir múltiples valores"
   ]
  },
  {
   "cell_type": "code",
   "execution_count": 4,
   "id": "f7d11fbd",
   "metadata": {},
   "outputs": [
    {
     "name": "stdout",
     "output_type": "stream",
     "text": [
      "Hola mundo 2025\n"
     ]
    }
   ],
   "source": [
    "print(\"Hola\", \"mundo\", 2025)"
   ]
  },
  {
   "cell_type": "markdown",
   "id": "f3c42431",
   "metadata": {},
   "source": [
    "## Parámetro `sep` (separador)"
   ]
  },
  {
   "cell_type": "code",
   "execution_count": 8,
   "id": "4f0b9f1d",
   "metadata": {},
   "outputs": [
    {
     "name": "stdout",
     "output_type": "stream",
     "text": [
      "Año/Mes/Día\n"
     ]
    }
   ],
   "source": [
    "print(\"Año\", \"Mes\", \"Día\", sep=\"/\")"
   ]
  },
  {
   "cell_type": "markdown",
   "id": "a1833098",
   "metadata": {},
   "source": [
    "## Parámetro `end` (qué poner al final)"
   ]
  },
  {
   "cell_type": "code",
   "execution_count": 10,
   "id": "34a7a07b",
   "metadata": {},
   "outputs": [
    {
     "name": "stdout",
     "output_type": "stream",
     "text": [
      "Hola,mundo\n"
     ]
    }
   ],
   "source": [
    "print(\"Hola\" , end=\",\")\n",
    "print(\"mundo\")"
   ]
  },
  {
   "cell_type": "markdown",
   "id": "e91a07fc",
   "metadata": {},
   "source": [
    "## Parámetro `file` (salida a archivo)"
   ]
  },
  {
   "cell_type": "code",
   "execution_count": 11,
   "id": "2111512e",
   "metadata": {},
   "outputs": [],
   "source": [
    "with open(\"salida.txt\", \"w\") as f:\n",
    "    print(\"Guardado en archivo\", file=f)"
   ]
  },
  {
   "cell_type": "markdown",
   "id": "a4602fb6",
   "metadata": {},
   "source": [
    "## Imprimir variables"
   ]
  },
  {
   "cell_type": "code",
   "execution_count": 24,
   "id": "d88f915a",
   "metadata": {},
   "outputs": [
    {
     "name": "stdout",
     "output_type": "stream",
     "text": [
      "Nombre: Yair Edad: 25\n"
     ]
    }
   ],
   "source": [
    "nombre = \"Yair\"\n",
    "edad = 25\n",
    "print(\"Nombre:\", nombre, \"Edad:\", edad)"
   ]
  },
  {
   "cell_type": "markdown",
   "id": "7725eea7",
   "metadata": {},
   "source": [
    "## Imprimir con formato (f-string, format, %)"
   ]
  },
  {
   "cell_type": "code",
   "execution_count": 25,
   "id": "a2226306",
   "metadata": {},
   "outputs": [
    {
     "name": "stdout",
     "output_type": "stream",
     "text": [
      "Hola, Yair. Tienes 25 años.\n",
      "Hola, Yair. Tienes 25 años.\n",
      "Hola, Yair. Tienes 25 años.\n"
     ]
    }
   ],
   "source": [
    "print(f\"Hola, {nombre}. Tienes {edad} años.\")\n",
    "print(\"Hola, {}. Tienes {} años.\".format(nombre, edad))\n",
    "print(\"Hola, %s. Tienes %d años.\" % (nombre, edad))"
   ]
  },
  {
   "cell_type": "markdown",
   "id": "38a7080b",
   "metadata": {},
   "source": [
    "## Imprimir listas y diccionarios"
   ]
  },
  {
   "cell_type": "code",
   "execution_count": 26,
   "id": "1f19f3ee",
   "metadata": {},
   "outputs": [
    {
     "name": "stdout",
     "output_type": "stream",
     "text": [
      "La lista es: [1, 2, 3]\n",
      "Diccionario: {'clave': 'valor'}\n"
     ]
    }
   ],
   "source": [
    "lista = [1, 2, 3]\n",
    "print(\"La lista es:\", lista)\n",
    "\n",
    "diccionario = {\"clave\": \"valor\"}\n",
    "print(\"Diccionario:\", diccionario)"
   ]
  },
  {
   "cell_type": "markdown",
   "id": "ac430410",
   "metadata": {},
   "source": [
    "## Imprimir sin salto de línea"
   ]
  },
  {
   "cell_type": "code",
   "execution_count": 1,
   "id": "2d04f1d8",
   "metadata": {},
   "outputs": [
    {
     "name": "stdout",
     "output_type": "stream",
     "text": [
      "0 1 2 "
     ]
    }
   ],
   "source": [
    "for i in range(3):\n",
    "    print(i, end=\" \")"
   ]
  }
 ],
 "metadata": {
  "kernelspec": {
   "display_name": "Python 3",
   "language": "python",
   "name": "python3"
  },
  "language_info": {
   "codemirror_mode": {
    "name": "ipython",
    "version": 3
   },
   "file_extension": ".py",
   "mimetype": "text/x-python",
   "name": "python",
   "nbconvert_exporter": "python",
   "pygments_lexer": "ipython3",
   "version": "3.13.0"
  }
 },
 "nbformat": 4,
 "nbformat_minor": 5
}
